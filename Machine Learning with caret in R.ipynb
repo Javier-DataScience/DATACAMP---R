{
 "cells": [
  {
   "cell_type": "markdown",
   "metadata": {},
   "source": [
    "# Machine Learning with caret in R"
   ]
  },
  {
   "cell_type": "markdown",
   "metadata": {},
   "source": [
    "# DATACAMP"
   ]
  },
  {
   "cell_type": "code",
   "execution_count": 1,
   "metadata": {},
   "outputs": [],
   "source": [
    "options(warn=-1)"
   ]
  },
  {
   "cell_type": "code",
   "execution_count": 2,
   "metadata": {
    "scrolled": true
   },
   "outputs": [
    {
     "data": {
      "image/png": "[encoded data removed]"
     },
     "metadata": {},
     "output_type": "display_data"
    }
   ],
   "source": [
    "library(\"IRdisplay\")\n",
    "display_png(file=\"r&c.jpg\") "
   ]
  },
  {
   "cell_type": "code",
   "execution_count": 4,
   "metadata": {},
   "outputs": [],
   "source": [
    "#install.packages(\"caret\")"
   ]
  },
  {
   "cell_type": "code",
   "execution_count": 6,
   "metadata": {},
   "outputs": [],
   "source": [
    "library(caret)"
   ]
  },
  {
   "cell_type": "markdown",
   "metadata": {},
   "source": [
    "# Course Description\n",
    "Machine learning is the study and application of algorithms that learn from and make predictions on data. From search results to self-driving cars, it has manifested itself in all areas of our lives and is one of the most exciting and fast growing fields of research in the world of data science. This course teaches the big ideas in machine learning: how to build and evaluate predictive models, how to tune them for optimal performance, how to preprocess data for better results, and much more. The popular caret R package, which provides a consistent interface to all of R's most powerful machine learning facilities, is used throughout the course."
   ]
  },
  {
   "cell_type": "markdown",
   "metadata": {},
   "source": [
    "# 1. Regression models: fitting them and evaluating their performance\n",
    "\n",
    "In the first chapter of this course, you'll fit regression models with train() and evaluate their out-of-sample performance using cross-validation and root-mean-square error (RMSE)."
   ]
  },
  {
   "cell_type": "code",
   "execution_count": 7,
   "metadata": {},
   "outputs": [],
   "source": [
    "# In-sample RMSE for linear regression on diamonds\n",
    "# \n",
    "# As you saw in the video, included in the course is the diamonds dataset, \n",
    "# which is a classic dataset from the ggplot2 package. \n",
    "# The dataset contains physical attributes of diamonds as well as the price they sold for. \n",
    "# One interesting modeling challenge is predicting diamond price based on their attributes \n",
    "# using something like a linear regression.\n",
    "# \n",
    "# Recall that to fit a linear regression, you use the lm() function in the following format:\n",
    "# \n",
    "# mod <- lm(y ~ x, my_data)\n",
    "# To make predictions using mod on the original data, you call the predict() function:\n",
    "# \n",
    "# pred <- predict(mod, my_data)\n",
    "# \n",
    "# Instructions\n",
    "# \n",
    "# Fit a linear model on the diamonds dataset predicting price using \n",
    "# all other variables as predictors (i.e. price ~ .). \n",
    "# Save the result to model.\n",
    "# Make predictions using model on the full original dataset and save the result to p.\n",
    "# Compute errors using the formula errors=predicted−actual. Save the result to error.\n",
    "# Compute RMSE using the formula you learned in the video and print it to the console."
   ]
  },
  {
   "cell_type": "code",
   "execution_count": 8,
   "metadata": {},
   "outputs": [],
   "source": [
    "library(ggplot2)"
   ]
  },
  {
   "cell_type": "code",
   "execution_count": 9,
   "metadata": {},
   "outputs": [],
   "source": [
    "load('Diamonds.RData')"
   ]
  },
  {
   "cell_type": "code",
   "execution_count": 10,
   "metadata": {},
   "outputs": [
    {
     "data": {
      "text/html": [
       "1129.84298657309"
      ],
      "text/latex": [
       "1129.84298657309"
      ],
      "text/markdown": [
       "1129.84298657309"
      ],
      "text/plain": [
       "[1] 1129.843"
      ]
     },
     "metadata": {},
     "output_type": "display_data"
    }
   ],
   "source": [
    "# Fit lm model: model\n",
    "model <- lm(price ~ ., diamonds)\n",
    "\n",
    "# Predict on full data: p\n",
    "p <- predict(model, diamonds)\n",
    "\n",
    "# Compute errors: error\n",
    "error <- p - diamonds[[\"price\"]]\n",
    "\n",
    "# Calculate RMSE\n",
    "sqrt(mean(error ^ 2))"
   ]
  },
  {
   "cell_type": "code",
   "execution_count": 11,
   "metadata": {},
   "outputs": [],
   "source": [
    "# Randomly order the data frame\n",
    "# \n",
    "# One way you can take a train/test split of a dataset is to order the dataset randomly, \n",
    "# then divide it into the two sets. This ensures that the training set and test set are both \n",
    "# random samples and that any biases in the ordering of the dataset \n",
    "# (e.g. if it had originally been ordered by price or size) are not retained in the samples \n",
    "# we take for training and testing your models. \n",
    "# You can think of this like shuffling a brand new deck of playing cards before dealing hands.\n",
    "# \n",
    "# First, you set a random seed so that your work is reproducible and \n",
    "# you get the same random split each time you run your script:\n",
    "# \n",
    "# set.seed(42)\n",
    "# Next, you use the sample() function to shuffle the row indices of the diamonds dataset. \n",
    "# You can later use these indices to reorder the dataset.\n",
    "# \n",
    "# rows <- sample(nrow(diamonds))\n",
    "# Finally, you can use this random vector to reorder the diamonds dataset:\n",
    "# \n",
    "# diamonds <- diamonds[rows, ]\n",
    "# Instructions\n",
    "# \n",
    "# Set the random seed to 42.\n",
    "# Make a vector of row indices called rows.\n",
    "# Randomly reorder the diamonds data frame, assigning to shuffled_diamonds."
   ]
  },
  {
   "cell_type": "code",
   "execution_count": 12,
   "metadata": {},
   "outputs": [],
   "source": [
    "# Set seed\n",
    "set.seed(42)\n",
    "\n",
    "# Shuffle row indices: rows\n",
    "rows <- sample(nrow(diamonds))\n",
    "\n",
    "# Randomly order data\n",
    "shuffled_diamonds <- diamonds[rows, ]"
   ]
  },
  {
   "cell_type": "code",
   "execution_count": 13,
   "metadata": {},
   "outputs": [],
   "source": [
    "# Try an 80/20 split\n",
    "# \n",
    "# Now that your dataset is randomly ordered, you can split the first 80% of it into a training set, \n",
    "# and the last 20% into a test set. You can do this by choosing a split point \n",
    "# approximately 80% of the way through your data:\n",
    "# \n",
    "# split <- round(nrow(mydata) * 0.80)\n",
    "# You can then use this point to break off the first 80% of the dataset as a training set:\n",
    "# \n",
    "# mydata[1:split, ]\n",
    "# And then you can use that same point to determine the test set:\n",
    "# \n",
    "# mydata[(split + 1):nrow(mydata), ]\n",
    "# Instructions\n",
    "# \n",
    "# Choose a row index to split on so that the split point is approximately 80% of \n",
    "# the way through the diamonds dataset. Call this index split.\n",
    "# Create a training set called train using that index.\n",
    "# Create a test set called test using that index."
   ]
  },
  {
   "cell_type": "code",
   "execution_count": 14,
   "metadata": {},
   "outputs": [],
   "source": [
    "# Determine row to split on: split\n",
    "split <- round(nrow(diamonds) * 0.80)\n",
    "\n",
    "# Create train\n",
    "train <- diamonds[1:split, ]\n",
    "\n",
    "# Create test\n",
    "test <- diamonds[(split + 1):nrow(diamonds), ]"
   ]
  },
  {
   "cell_type": "code",
   "execution_count": 15,
   "metadata": {},
   "outputs": [],
   "source": [
    "# Predict on test set\n",
    "# \n",
    "# Now that you have a randomly split training set and test set, \n",
    "# you can use the lm() function as you did in the first exercise to fit a model to your training set, \n",
    "# rather than the entire dataset. Recall that you can use the formula interface to \n",
    "# the linear regression function to fit a model with a specified target variable using \n",
    "# all other variables in the dataset as predictors:\n",
    "# \n",
    "# mod <- lm(y ~ ., training_data)\n",
    "# You can use the predict() function to make predictions from that model on new data. \n",
    "# The new dataset must have all of the columns from the training data, \n",
    "# but they can be in a different order with different values. \n",
    "# Here, rather than re-predicting on the training set, you can predict on the test set, \n",
    "# which you did not use for training the model. \n",
    "# This will allow you to determine the out-of-sample error for the model in the next exercise:\n",
    "# \n",
    "# p <- predict(model, new_data)\n",
    "# \n",
    "# Instructions\n",
    "# \n",
    "# Fit an lm() model called model to predict price using all other variables as covariates. \n",
    "# Be sure to use the training set, train.\n",
    "# Predict on the test set, test, using predict(). Store these values in a vector called p."
   ]
  },
  {
   "cell_type": "code",
   "execution_count": 16,
   "metadata": {},
   "outputs": [],
   "source": [
    "# Fit lm model on train: model\n",
    "model <- lm(price ~ ., train)\n",
    "\n",
    "# Predict on test: p\n",
    "p <- predict(model, test)"
   ]
  },
  {
   "cell_type": "code",
   "execution_count": 17,
   "metadata": {},
   "outputs": [],
   "source": [
    "# Calculate test set RMSE by hand\n",
    "# \n",
    "# Now that you have predictions on the test set, you can use these predictions to calculate an error metric \n",
    "# (in this case RMSE) on the test set and see how the model performs out-of-sample, \n",
    "# rather than in-sample as you did in the first exercise. \n",
    "# You first do this by calculating the errors between the predicted diamond prices and \n",
    "# the actual diamond prices by subtracting the predictions from the actual values.\n",
    "# \n",
    "# Once you have an error vector, calculating RMSE is as simple as squaring it, \n",
    "# taking the mean, then taking the square root:\n",
    "# \n",
    "# sqrt(mean(error^2))\n",
    "# \n",
    "# Instructions\n",
    "# \n",
    "# test, model, and p are loaded in your workspace.\n",
    "# \n",
    "# Calculate the error between the predictions on the test set and \n",
    "# the actual diamond prices in the test set. Call this error.\n",
    "# Calculate RMSE using this error vector, just printing the result to the console."
   ]
  },
  {
   "cell_type": "code",
   "execution_count": 18,
   "metadata": {},
   "outputs": [
    {
     "data": {
      "text/html": [
       "796.892210330405"
      ],
      "text/latex": [
       "796.892210330405"
      ],
      "text/markdown": [
       "796.892210330405"
      ],
      "text/plain": [
       "[1] 796.8922"
      ]
     },
     "metadata": {},
     "output_type": "display_data"
    }
   ],
   "source": [
    "# Compute errors: error\n",
    "error <- p - test[[\"price\"]]\n",
    "\n",
    "# Calculate RMSE\n",
    "sqrt(mean(error^2))"
   ]
  },
  {
   "cell_type": "code",
   "execution_count": 19,
   "metadata": {},
   "outputs": [],
   "source": [
    "# 10-fold cross-validation\n",
    "# \n",
    "# As you saw in the video, a better approach to validating models is to use multiple systematic test sets, \n",
    "# rather than a single random train/test split. Fortunately, the caret package makes this very easy to do:\n",
    "# \n",
    "# model <- train(y ~ ., my_data)\n",
    "# caret supports many types of cross-validation, and you can specify which type of cross-validation and \n",
    "# the number of cross-validation folds with the trainControl() function, \n",
    "# which you pass to the trControl argument in train():\n",
    "# \n",
    "# model <- train(\n",
    "#   y ~ ., \n",
    "#   my_data,\n",
    "#   method = \"lm\",\n",
    "#   trControl = trainControl(\n",
    "#     method = \"cv\", \n",
    "#     number = 10,\n",
    "#     verboseIter = TRUE\n",
    "#   )\n",
    "# )\n",
    "# It's important to note that you pass the method for modeling to the main train() function \n",
    "# and the method for cross-validation to the trainControl() function.\n",
    "# \n",
    "# Instructions\n",
    "# \n",
    "# Fit a linear regression to model price using all other variables in the diamonds dataset as predictors. \n",
    "# Use the train() function and 10-fold cross-validation. \n",
    "# (Note that we've taken a subset of the full diamonds dataset to speed up this operation, but it's still named diamonds.)\n",
    "# Print the model to the console and examine the results."
   ]
  },
  {
   "cell_type": "code",
   "execution_count": 20,
   "metadata": {},
   "outputs": [
    {
     "name": "stdout",
     "output_type": "stream",
     "text": [
      "+ Fold01: intercept=TRUE \n",
      "- Fold01: intercept=TRUE \n",
      "+ Fold02: intercept=TRUE \n",
      "- Fold02: intercept=TRUE \n",
      "+ Fold03: intercept=TRUE \n",
      "- Fold03: intercept=TRUE \n",
      "+ Fold04: intercept=TRUE \n",
      "- Fold04: intercept=TRUE \n",
      "+ Fold05: intercept=TRUE \n",
      "- Fold05: intercept=TRUE \n",
      "+ Fold06: intercept=TRUE \n",
      "- Fold06: intercept=TRUE \n",
      "+ Fold07: intercept=TRUE \n",
      "- Fold07: intercept=TRUE \n",
      "+ Fold08: intercept=TRUE \n",
      "- Fold08: intercept=TRUE \n",
      "+ Fold09: intercept=TRUE \n",
      "- Fold09: intercept=TRUE \n",
      "+ Fold10: intercept=TRUE \n",
      "- Fold10: intercept=TRUE \n",
      "Aggregating results\n",
      "Fitting final model on full training set\n"
     ]
    },
    {
     "data": {
      "text/plain": [
       "Linear Regression \n",
       "\n",
       "53940 samples\n",
       "    9 predictor\n",
       "\n",
       "No pre-processing\n",
       "Resampling: Cross-Validated (10 fold) \n",
       "Summary of sample sizes: 48547, 48546, 48546, 48547, 48545, 48547, ... \n",
       "Resampling results:\n",
       "\n",
       "  RMSE      Rsquared   MAE     \n",
       "  1131.015  0.9196398  740.6117\n",
       "\n",
       "Tuning parameter 'intercept' was held constant at a value of TRUE"
      ]
     },
     "metadata": {},
     "output_type": "display_data"
    }
   ],
   "source": [
    "# Fit lm model using 10-fold CV: model\n",
    "model <- train(\n",
    "  price ~ ., \n",
    "  diamonds,\n",
    "  method = \"lm\",\n",
    "  trControl = trainControl(\n",
    "    method = \"cv\", \n",
    "    number = 10,\n",
    "    verboseIter = TRUE\n",
    "  )\n",
    ")\n",
    "\n",
    "# Print model to console\n",
    "model"
   ]
  },
  {
   "cell_type": "code",
   "execution_count": 21,
   "metadata": {},
   "outputs": [],
   "source": [
    "# 5-fold cross-validation\n",
    "# \n",
    "# In this course, you will use a wide variety of datasets to explore \n",
    "# the full flexibility of the caret package. \n",
    "# Here, you will use the famous Boston housing dataset, \n",
    "# where the goal is to predict median home values in various Boston suburbs.\n",
    "# \n",
    "# You can use exactly the same code as in the previous exercise, but change the dataset used by the model:\n",
    "# \n",
    "# model <- train(\n",
    "#   medv ~ ., \n",
    "#   Boston, # <- new!\n",
    "#   method = \"lm\",\n",
    "#   trControl = trainControl(\n",
    "#     method = \"cv\", \n",
    "#     number = 10,\n",
    "#     verboseIter = TRUE\n",
    "#   )\n",
    "# )\n",
    "# Next, you can reduce the number of cross-validation folds from 10 to 5 using \n",
    "# the number argument to the trainControl() argument:\n",
    "# \n",
    "# trControl = trainControl(\n",
    "#   method = \"cv\", \n",
    "#   number = 5,\n",
    "#   verboseIter = TRUE\n",
    "# )\n",
    "# Instructions\n",
    "# \n",
    "# Fit an lm() model to the Boston housing dataset, \n",
    "# such that medv is the response variable and all other variables are explanatory variables.\n",
    "# Use 5-fold cross-validation rather than 10-fold cross-validation.\n",
    "# Print the model to the console and inspect the results."
   ]
  },
  {
   "cell_type": "code",
   "execution_count": 22,
   "metadata": {},
   "outputs": [],
   "source": [
    "library(MASS)\n",
    "Boston<-Boston"
   ]
  },
  {
   "cell_type": "code",
   "execution_count": 23,
   "metadata": {},
   "outputs": [
    {
     "name": "stdout",
     "output_type": "stream",
     "text": [
      "+ Fold1: intercept=TRUE \n",
      "- Fold1: intercept=TRUE \n",
      "+ Fold2: intercept=TRUE \n",
      "- Fold2: intercept=TRUE \n",
      "+ Fold3: intercept=TRUE \n",
      "- Fold3: intercept=TRUE \n",
      "+ Fold4: intercept=TRUE \n",
      "- Fold4: intercept=TRUE \n",
      "+ Fold5: intercept=TRUE \n",
      "- Fold5: intercept=TRUE \n",
      "Aggregating results\n",
      "Fitting final model on full training set\n"
     ]
    },
    {
     "data": {
      "text/plain": [
       "Linear Regression \n",
       "\n",
       "506 samples\n",
       " 13 predictor\n",
       "\n",
       "No pre-processing\n",
       "Resampling: Cross-Validated (5 fold) \n",
       "Summary of sample sizes: 405, 405, 406, 403, 405 \n",
       "Resampling results:\n",
       "\n",
       "  RMSE      Rsquared   MAE     \n",
       "  4.860247  0.7209221  3.398114\n",
       "\n",
       "Tuning parameter 'intercept' was held constant at a value of TRUE"
      ]
     },
     "metadata": {},
     "output_type": "display_data"
    }
   ],
   "source": [
    "# Fit lm model using 5-fold CV: model\n",
    "model <- train(\n",
    "  medv ~ ., \n",
    "  Boston,\n",
    "  method = \"lm\",\n",
    "  trControl = trainControl(\n",
    "    method = \"cv\", \n",
    "    number = 5,\n",
    "    verboseIter = TRUE\n",
    "  )\n",
    ")\n",
    "\n",
    "# Print model to console\n",
    "model"
   ]
  },
  {
   "cell_type": "code",
   "execution_count": 24,
   "metadata": {},
   "outputs": [],
   "source": [
    "# Making predictions on new data\n",
    "# \n",
    "# Finally, the model you fit with the train() function has the exact same predict() \n",
    "# interface as the linear regression models you fit earlier in this chapter.\n",
    "# \n",
    "# After fitting a model with train(), you can simply call predict() with new data, e.g:\n",
    "# \n",
    "# predict(my_model, new_data)\n",
    "# \n",
    "# Instructions\n",
    "# \n",
    "# Use the predict() function to make predictions with model on the full Boston housing dataset. \n",
    "# Print the result to the console."
   ]
  },
  {
   "cell_type": "code",
   "execution_count": 25,
   "metadata": {},
   "outputs": [
    {
     "data": {
      "text/html": [
       "<style>\n",
       ".dl-inline {width: auto; margin:0; padding: 0}\n",
       ".dl-inline>dt, .dl-inline>dd {float: none; width: auto; display: inline-block}\n",
       ".dl-inline>dt::after {content: \":\\0020\"; padding-right: .5ex}\n",
       ".dl-inline>dt:not(:first-of-type) {padding-left: .5ex}\n",
       "</style><dl class=dl-inline><dt>1</dt><dd>30.0038433770168</dd><dt>2</dt><dd>25.0255623790532</dd><dt>3</dt><dd>30.5675967186016</dd><dt>4</dt><dd>28.6070364887281</dd><dt>5</dt><dd>27.943524232873</dd><dt>6</dt><dd>25.2562844615411</dd><dt>7</dt><dd>23.0018082684854</dd><dt>8</dt><dd>19.5359884287561</dd><dt>9</dt><dd>11.5236368531305</dd><dt>10</dt><dd>18.920262107076</dd><dt>11</dt><dd>18.9994965111326</dd><dt>12</dt><dd>21.5867956813993</dd><dt>13</dt><dd>20.9065215278353</dd><dt>14</dt><dd>19.5529028105809</dd><dt>15</dt><dd>19.2834820500903</dd><dt>16</dt><dd>19.2974832082279</dd><dt>17</dt><dd>20.5275097911623</dd><dt>18</dt><dd>16.9114013467978</dd><dt>19</dt><dd>16.1780110565719</dd><dt>20</dt><dd>18.4061360333325</dd><dt>21</dt><dd>12.5238575270953</dd><dt>22</dt><dd>17.6710366949151</dd><dt>23</dt><dd>15.8328812917867</dd><dt>24</dt><dd>13.8062853463548</dd><dt>25</dt><dd>15.678338315463</dd><dt>26</dt><dd>13.3866856086074</dd><dt>27</dt><dd>15.4639765464399</dd><dt>28</dt><dd>14.7084742806359</dd><dt>29</dt><dd>19.5473728509617</dd><dt>30</dt><dd>20.8764282022614</dd><dt>31</dt><dd>11.4551175899561</dd><dt>32</dt><dd>18.0592329458027</dd><dt>33</dt><dd>8.8110573622147</dd><dt>34</dt><dd>14.2827581412295</dd><dt>35</dt><dd>13.706758912851</dd><dt>36</dt><dd>23.8146352648329</dd><dt>37</dt><dd>22.3419370756891</dd><dt>38</dt><dd>23.1089114245443</dd><dt>39</dt><dd>22.9150261161652</dd><dt>40</dt><dd>31.3576256881649</dd><dt>41</dt><dd>34.2151022537004</dd><dt>42</dt><dd>28.0205641386916</dd><dt>43</dt><dd>25.203866280479</dd><dt>44</dt><dd>24.6097927254519</dd><dt>45</dt><dd>22.9414917565552</dd><dt>46</dt><dd>22.0966981749791</dd><dt>47</dt><dd>20.4232003230147</dd><dt>48</dt><dd>18.0365508835474</dd><dt>49</dt><dd>9.10655377218256</dd><dt>50</dt><dd>17.2060775141251</dd><dt>51</dt><dd>21.2815253532114</dd><dt>52</dt><dd>23.9722228486895</dd><dt>53</dt><dd>27.6558508020574</dd><dt>54</dt><dd>24.0490180911577</dd><dt>55</dt><dd>15.3618477010034</dd><dt>56</dt><dd>31.1526494660351</dd><dt>57</dt><dd>24.8568697815555</dd><dt>58</dt><dd>33.1091980616467</dd><dt>59</dt><dd>21.7753798714888</dd><dt>60</dt><dd>21.084935550631</dd><dt>61</dt><dd>17.872580396885</dd><dt>62</dt><dd>18.5111020802209</dd><dt>63</dt><dd>23.9874285649094</dd><dt>64</dt><dd>22.5540886888834</dd><dt>65</dt><dd>23.3730864422663</dd><dt>66</dt><dd>30.3614835814626</dd><dt>67</dt><dd>25.5305651152042</dd><dt>68</dt><dd>21.1133856417968</dd><dt>69</dt><dd>17.4215378565483</dd><dt>70</dt><dd>20.7848363266959</dd><dt>71</dt><dd>25.2014885944357</dd><dt>72</dt><dd>21.7426577045306</dd><dt>73</dt><dd>24.5574495721502</dd><dt>74</dt><dd>24.0429571201257</dd><dt>75</dt><dd>25.5049971637137</dd><dt>76</dt><dd>23.9669302002643</dd><dt>77</dt><dd>22.945454031329</dd><dt>78</dt><dd>23.3569981843483</dd><dt>79</dt><dd>21.2619826623063</dd><dt>80</dt><dd>22.4281737318015</dd><dt>81</dt><dd>28.4057696820841</dd><dt>82</dt><dd>26.9948608623198</dd><dt>83</dt><dd>26.035762968389</dd><dt>84</dt><dd>25.0587348192214</dd><dt>85</dt><dd>24.7845667379329</dd><dt>86</dt><dd>27.7904919512373</dd><dt>87</dt><dd>22.1685342314671</dd><dt>88</dt><dd>25.8927641531678</dd><dt>89</dt><dd>30.6746182717619</dd><dt>90</dt><dd>30.8311062274245</dd><dt>91</dt><dd>27.1190193960488</dd><dt>92</dt><dd>27.4126673411187</dd><dt>93</dt><dd>28.9412276243971</dd><dt>94</dt><dd>29.0810554625794</dd><dt>95</dt><dd>27.0397736487632</dd><dt>96</dt><dd>28.6245994850461</dd><dt>97</dt><dd>24.7274497764368</dd><dt>98</dt><dd>35.7815951808593</dd><dt>99</dt><dd>35.1145458726225</dd><dt>100</dt><dd>32.2510280132342</dd><dt>101</dt><dd>24.5802201889238</dd><dt>102</dt><dd>25.5941347457338</dd><dt>103</dt><dd>19.7901368354644</dd><dt>104</dt><dd>20.311671287562</dd><dt>105</dt><dd>21.4348259114541</dd><dt>106</dt><dd>18.539940081604</dd><dt>107</dt><dd>17.1875599178159</dd><dt>108</dt><dd>20.7504902593562</dd><dt>109</dt><dd>22.6482911459715</dd><dt>110</dt><dd>19.7720366953187</dd><dt>111</dt><dd>20.6496586426968</dd><dt>112</dt><dd>26.5258674379307</dd><dt>113</dt><dd>20.7732363768602</dd><dt>114</dt><dd>20.7154831497022</dd><dt>115</dt><dd>25.1720888126411</dd><dt>116</dt><dd>20.4302559094607</dd><dt>117</dt><dd>23.3772462569496</dd><dt>118</dt><dd>23.6904326062206</dd><dt>119</dt><dd>20.3357836425832</dd><dt>120</dt><dd>20.7918087320158</dd><dt>121</dt><dd>21.9163207105348</dd><dt>122</dt><dd>22.4710777674484</dd><dt>123</dt><dd>20.5573855584772</dd><dt>124</dt><dd>16.3666197742302</dd><dt>125</dt><dd>20.5609981919357</dd><dt>126</dt><dd>22.4817844617124</dd><dt>127</dt><dd>14.617066327799</dd><dt>128</dt><dd>15.178766839628</dd><dt>129</dt><dd>18.9386859238066</dd><dt>130</dt><dd>14.0557328510346</dd><dt>131</dt><dd>20.0352739892632</dd><dt>132</dt><dd>19.4101340209302</dd><dt>133</dt><dd>20.0619156618911</dd><dt>134</dt><dd>15.7580767312742</dd><dt>135</dt><dd>13.2564523816053</dd><dt>136</dt><dd>17.2627773498836</dd><dt>137</dt><dd>15.8784188341927</dd><dt>138</dt><dd>19.3616395402926</dd><dt>139</dt><dd>13.8148389669953</dd><dt>140</dt><dd>16.4488147477162</dd><dt>141</dt><dd>13.5714193186728</dd><dt>142</dt><dd>3.98885508299594</dd><dt>143</dt><dd>14.5949547799219</dd><dt>144</dt><dd>12.148814803032</dd><dt>145</dt><dd>8.72822362342311</dd><dt>146</dt><dd>12.0358534274743</dd><dt>147</dt><dd>15.8208205796314</dd><dt>148</dt><dd>8.51499020343309</dd><dt>149</dt><dd>9.71844139274396</dd><dt>150</dt><dd>14.8045137374036</dd><dt>151</dt><dd>20.8385815286828</dd><dt>152</dt><dd>18.3010116935798</dd><dt>153</dt><dd>20.1228255785021</dd><dt>154</dt><dd>17.2860189361228</dd><dt>155</dt><dd>22.3660022807163</dd><dt>156</dt><dd>20.1037592273599</dd><dt>157</dt><dd>13.6212589067239</dd><dt>158</dt><dd>33.2598269689017</dd><dt>159</dt><dd>29.0301726798452</dd><dt>160</dt><dd>25.5675276936531</dd><dt>161</dt><dd>32.7082766583539</dd><dt>162</dt><dd>36.7746701457414</dd><dt>163</dt><dd>40.5576584445805</dd><dt>164</dt><dd>41.8472816770412</dd><dt>165</dt><dd>24.7886737909976</dd><dt>166</dt><dd>25.3788923776934</dd><dt>167</dt><dd>37.2034745459995</dd><dt>168</dt><dd>23.0874874733724</dd><dt>169</dt><dd>26.4027395527365</dd><dt>170</dt><dd>26.6538211372645</dd><dt>171</dt><dd>22.5551466048871</dd><dt>172</dt><dd>24.290828117749</dd><dt>173</dt><dd>22.9765721902132</dd><dt>174</dt><dd>29.0719430769009</dd><dt>175</dt><dd>26.5219433959124</dd><dt>176</dt><dd>30.7220905554836</dd><dt>177</dt><dd>25.6166930694014</dd><dt>178</dt><dd>29.1374097942841</dd><dt>179</dt><dd>31.4357196770866</dd><dt>180</dt><dd>32.9223156800248</dd><dt>181</dt><dd>34.7244046437734</dd><dt>182</dt><dd>27.7655211065963</dd><dt>183</dt><dd>33.8878732132413</dd><dt>184</dt><dd>30.9923803601486</dd><dt>185</dt><dd>22.7182000809267</dd><dt>186</dt><dd>24.7664780989573</dd><dt>187</dt><dd>35.8849722620772</dd><dt>188</dt><dd>33.4247672203156</dd><dt>189</dt><dd>32.4119914656021</dd><dt>190</dt><dd>34.5150994934213</dd><dt>191</dt><dd>30.7610948517462</dd><dt>192</dt><dd>30.2893414067509</dd><dt>193</dt><dd>32.9191871432062</dd><dt>194</dt><dd>32.1126077140192</dd><dt>195</dt><dd>31.5587100431722</dd><dt>196</dt><dd>40.8455572142262</dd><dt>197</dt><dd>36.1277007921084</dd><dt>198</dt><dd>32.6692080997736</dd><dt>199</dt><dd>34.7046911643691</dd><dt>200</dt><dd>30.0934516181174</dd><dt>201</dt><dd>...</dd><dt>202</dt><dd>35.5622685696683</dd><dt>203</dt><dd>32.7090512370312</dd><dt>204</dt><dd>28.6424423662638</dd><dt>205</dt><dd>23.5896582710816</dd><dt>206</dt><dd>18.5426689677345</dd><dt>207</dt><dd>26.8788984289196</dd><dt>208</dt><dd>23.2813397881904</dd><dt>209</dt><dd>25.5458024605245</dd><dt>210</dt><dd>25.4812005709242</dd><dt>211</dt><dd>20.5390990114911</dd><dt>212</dt><dd>17.6157257282672</dd><dt>213</dt><dd>18.3758168640772</dd><dt>214</dt><dd>24.2907027693969</dd><dt>215</dt><dd>21.3252903916502</dd><dt>216</dt><dd>24.8868224406515</dd><dt>217</dt><dd>24.8693728153879</dd><dt>218</dt><dd>22.8695244743481</dd><dt>219</dt><dd>19.4512379061528</dd><dt>220</dt><dd>25.1178340113773</dd><dt>221</dt><dd>24.6678691322565</dd><dt>222</dt><dd>23.6807617707272</dd><dt>223</dt><dd>19.3408961632679</dd><dt>224</dt><dd>21.1741810541344</dd><dt>225</dt><dd>24.2524907349313</dd><dt>226</dt><dd>21.5926089386146</dd><dt>227</dt><dd>19.9844660538899</dd><dt>228</dt><dd>23.3388799978055</dd><dt>229</dt><dd>22.140606924958</dd><dt>230</dt><dd>21.555099290216</dd><dt>231</dt><dd>20.6187290679767</dd><dt>232</dt><dd>20.1609717632301</dd><dt>233</dt><dd>19.2849038729266</dd><dt>234</dt><dd>22.1667232042712</dd><dt>235</dt><dd>21.2496577442297</dd><dt>236</dt><dd>21.4293930542572</dd><dt>237</dt><dd>30.3278879602449</dd><dt>238</dt><dd>22.0473497508576</dd><dt>239</dt><dd>27.706479124565</dd><dt>240</dt><dd>28.5479411681596</dd><dt>241</dt><dd>16.5450112143802</dd><dt>242</dt><dd>14.7835964098646</dd><dt>243</dt><dd>25.273800816857</dd><dt>244</dt><dd>27.5420511739339</dd><dt>245</dt><dd>22.1483756244775</dd><dt>246</dt><dd>20.4594409474612</dd><dt>247</dt><dd>20.5460542274534</dd><dt>248</dt><dd>16.880638265648</dd><dt>249</dt><dd>25.4025350580152</dd><dt>250</dt><dd>14.3248663190426</dd><dt>251</dt><dd>16.5948846173842</dd><dt>252</dt><dd>19.6370469133015</dd><dt>253</dt><dd>22.7180660747844</dd><dt>254</dt><dd>22.2021888675356</dd><dt>255</dt><dd>19.2054805739531</dd><dt>256</dt><dd>22.6661610513381</dd><dt>257</dt><dd>18.9319261816695</dd><dt>258</dt><dd>18.2284680430267</dd><dt>259</dt><dd>20.2315081138551</dd><dt>260</dt><dd>37.4944738996952</dd><dt>261</dt><dd>14.2819073412</dd><dt>262</dt><dd>15.5428624827945</dd><dt>263</dt><dd>10.8316232410572</dd><dt>264</dt><dd>23.8007290220916</dd><dt>265</dt><dd>32.6440736012498</dd><dt>266</dt><dd>34.6068404244668</dd><dt>267</dt><dd>24.9433133251443</dd><dt>268</dt><dd>25.999809100736</dd><dt>269</dt><dd>6.12632499643091</dd><dt>270</dt><dd>0.777798059570486</dd><dt>271</dt><dd>25.3071306417183</dd><dt>272</dt><dd>17.7406106453158</dd><dt>273</dt><dd>20.2327441401876</dd><dt>274</dt><dd>15.8333130075964</dd><dt>275</dt><dd>16.8351258716529</dd><dt>276</dt><dd>14.3699482548818</dd><dt>277</dt><dd>18.4768283307821</dd><dt>278</dt><dd>13.4276828046912</dd><dt>279</dt><dd>13.0617751178283</dd><dt>280</dt><dd>3.27918116096127</dd><dt>281</dt><dd>8.06022170824218</dd><dt>282</dt><dd>6.12842196430469</dd><dt>283</dt><dd>5.61864809983746</dd><dt>284</dt><dd>6.45198569812683</dd><dt>285</dt><dd>14.2076473519414</dd><dt>286</dt><dd>17.2122518314194</dd><dt>287</dt><dd>17.298872651552</dd><dt>288</dt><dd>9.89116643227552</dd><dt>289</dt><dd>20.2212419349943</dd><dt>290</dt><dd>17.941811753226</dd><dt>291</dt><dd>20.3044578274682</dd><dt>292</dt><dd>19.2955907547463</dd><dt>293</dt><dd>16.3363277931954</dd><dt>294</dt><dd>6.55162319068334</dd><dt>295</dt><dd>10.8901677809486</dd><dt>296</dt><dd>11.881458707413</dd><dt>297</dt><dd>17.8117450679152</dd><dt>298</dt><dd>18.2612658716956</dd><dt>299</dt><dd>12.9794878073526</dd><dt>300</dt><dd>7.37816360719455</dd><dt>301</dt><dd>8.21115861388468</dd><dt>302</dt><dd>8.06626192986999</dd><dt>303</dt><dd>19.9829478598213</dd><dt>304</dt><dd>13.7075636921068</dd><dt>305</dt><dd>19.8526845447722</dd><dt>306</dt><dd>15.223082976881</dd><dt>307</dt><dd>16.9607198099616</dd><dt>308</dt><dd>1.71851806781773</dd><dt>309</dt><dd>11.8057838715304</dd><dt>310</dt><dd>-4.28131070918486</dd><dt>311</dt><dd>9.58376736863222</dd><dt>312</dt><dd>13.3666081096374</dd><dt>313</dt><dd>6.89562362585978</dd><dt>314</dt><dd>6.14779852032134</dd><dt>315</dt><dd>14.6066179423843</dd><dt>316</dt><dd>19.6000267019874</dd><dt>317</dt><dd>18.1242747588778</dd><dt>318</dt><dd>18.5217713215163</dd><dt>319</dt><dd>13.1752861045673</dd><dt>320</dt><dd>14.6261762418156</dd><dt>321</dt><dd>9.92374975966263</dd><dt>322</dt><dd>16.3459064665755</dd><dt>323</dt><dd>14.0751942552311</dd><dt>324</dt><dd>14.2575624260639</dd><dt>325</dt><dd>13.0423478746219</dd><dt>326</dt><dd>18.1595569337206</dd><dt>327</dt><dd>18.6955435411763</dd><dt>328</dt><dd>21.5272830021115</dd><dt>329</dt><dd>17.0314186086468</dd><dt>330</dt><dd>15.9609043533333</dd><dt>331</dt><dd>13.3614161071054</dd><dt>332</dt><dd>14.5207938390617</dd><dt>333</dt><dd>8.81976005426034</dd><dt>334</dt><dd>4.86751102276617</dd><dt>335</dt><dd>13.0659131295214</dd><dt>336</dt><dd>12.7060969931816</dd><dt>337</dt><dd>17.2955805920873</dd><dt>338</dt><dd>18.740485001511</dd><dt>339</dt><dd>18.0590102945304</dd><dt>340</dt><dd>11.5147468339055</dd><dt>341</dt><dd>11.974003586659</dd><dt>342</dt><dd>17.6834461847101</dd><dt>343</dt><dd>18.1269523902661</dd><dt>344</dt><dd>17.5183465039488</dd><dt>345</dt><dd>17.2274250730163</dd><dt>346</dt><dd>16.5227163133693</dd><dt>347</dt><dd>19.412910950902</dd><dt>348</dt><dd>18.5821523618058</dd><dt>349</dt><dd>22.4894479081572</dd><dt>350</dt><dd>15.2800013303762</dd><dt>351</dt><dd>15.8208933517198</dd><dt>352</dt><dd>12.6872558131637</dd><dt>353</dt><dd>12.8763379019582</dd><dt>354</dt><dd>17.1866853085876</dd><dt>355</dt><dd>18.5124760929217</dd><dt>356</dt><dd>19.0486053324833</dd><dt>357</dt><dd>20.1720892732934</dd><dt>358</dt><dd>19.7740731969026</dd><dt>359</dt><dd>22.4294076788368</dd><dt>360</dt><dd>20.3191185432229</dd><dt>361</dt><dd>17.8861625321675</dd><dt>362</dt><dd>14.374785228368</dd><dt>363</dt><dd>16.9477685071966</dd><dt>364</dt><dd>16.9840576215104</dd><dt>365</dt><dd>18.5883839676952</dd><dt>366</dt><dd>20.1671944106315</dd><dt>367</dt><dd>22.9771803171487</dd><dt>368</dt><dd>22.4558072635363</dd><dt>369</dt><dd>25.5782462654826</dd><dt>370</dt><dd>16.3914763163555</dd><dt>371</dt><dd>16.1114628043017</dd><dt>372</dt><dd>20.5348159958905</dd><dt>373</dt><dd>11.542727381565</dd><dt>374</dt><dd>19.2049630449181</dd><dt>375</dt><dd>21.8627639063056</dd><dt>376</dt><dd>23.4687886630714</dd><dt>377</dt><dd>27.098873154886</dd><dt>378</dt><dd>28.5699430166971</dd><dt>379</dt><dd>21.0839878308985</dd><dt>380</dt><dd>19.4551619556368</dd><dt>381</dt><dd>22.2222591407908</dd><dt>382</dt><dd>19.6559196075809</dd><dt>383</dt><dd>21.3253610439986</dd><dt>384</dt><dd>11.8558371664911</dd><dt>385</dt><dd>8.22386686792789</dd><dt>386</dt><dd>3.66399672048595</dd><dt>387</dt><dd>13.7590853820705</dd><dt>388</dt><dd>15.9311854513374</dd><dt>389</dt><dd>20.6266205443521</dd><dt>390</dt><dd>20.612494139848</dd><dt>391</dt><dd>16.8854196394896</dd><dt>392</dt><dd>14.0132078709419</dd><dt>393</dt><dd>19.108541438765</dd><dt>394</dt><dd>21.2980517444353</dd><dt>395</dt><dd>18.4549884086989</dd><dt>396</dt><dd>20.468708469606</dd><dt>397</dt><dd>23.5333405466671</dd><dt>398</dt><dd>22.3757189202883</dd><dt>399</dt><dd>27.6274260950359</dd><dt>400</dt><dd>26.1279668065958</dd><dt>401</dt><dd>22.3442122929036</dd></dl>\n"
      ],
      "text/latex": [
       "\\begin{description*}\n",
       "\\item[1] 30.0038433770168\n",
       "\\item[2] 25.0255623790532\n",
       "\\item[3] 30.5675967186016\n",
       "\\item[4] 28.6070364887281\n",
       "\\item[5] 27.943524232873\n",
       "\\item[6] 25.2562844615411\n",
       "\\item[7] 23.0018082684854\n",
       "\\item[8] 19.5359884287561\n",
       "\\item[9] 11.5236368531305\n",
       "\\item[10] 18.920262107076\n",
       "\\item[11] 18.9994965111326\n",
       "\\item[12] 21.5867956813993\n",
       "\\item[13] 20.9065215278353\n",
       "\\item[14] 19.5529028105809\n",
       "\\item[15] 19.2834820500903\n",
       "\\item[16] 19.2974832082279\n",
       "\\item[17] 20.5275097911623\n",
       "\\item[18] 16.9114013467978\n",
       "\\item[19] 16.1780110565719\n",
       "\\item[20] 18.4061360333325\n",
       "\\item[21] 12.5238575270953\n",
       "\\item[22] 17.6710366949151\n",
       "\\item[23] 15.8328812917867\n",
       "\\item[24] 13.8062853463548\n",
       "\\item[25] 15.678338315463\n",
       "\\item[26] 13.3866856086074\n",
       "\\item[27] 15.4639765464399\n",
       "\\item[28] 14.7084742806359\n",
       "\\item[29] 19.5473728509617\n",
       "\\item[30] 20.8764282022614\n",
       "\\item[31] 11.4551175899561\n",
       "\\item[32] 18.0592329458027\n",
       "\\item[33] 8.8110573622147\n",
       "\\item[34] 14.2827581412295\n",
       "\\item[35] 13.706758912851\n",
       "\\item[36] 23.8146352648329\n",
       "\\item[37] 22.3419370756891\n",
       "\\item[38] 23.1089114245443\n",
       "\\item[39] 22.9150261161652\n",
       "\\item[40] 31.3576256881649\n",
       "\\item[41] 34.2151022537004\n",
       "\\item[42] 28.0205641386916\n",
       "\\item[43] 25.203866280479\n",
       "\\item[44] 24.6097927254519\n",
       "\\item[45] 22.9414917565552\n",
       "\\item[46] 22.0966981749791\n",
       "\\item[47] 20.4232003230147\n",
       "\\item[48] 18.0365508835474\n",
       "\\item[49] 9.10655377218256\n",
       "\\item[50] 17.2060775141251\n",
       "\\item[51] 21.2815253532114\n",
       "\\item[52] 23.9722228486895\n",
       "\\item[53] 27.6558508020574\n",
       "\\item[54] 24.0490180911577\n",
       "\\item[55] 15.3618477010034\n",
       "\\item[56] 31.1526494660351\n",
       "\\item[57] 24.8568697815555\n",
       "\\item[58] 33.1091980616467\n",
       "\\item[59] 21.7753798714888\n",
       "\\item[60] 21.084935550631\n",
       "\\item[61] 17.872580396885\n",
       "\\item[62] 18.5111020802209\n",
       "\\item[63] 23.9874285649094\n",
       "\\item[64] 22.5540886888834\n",
       "\\item[65] 23.3730864422663\n",
       "\\item[66] 30.3614835814626\n",
       "\\item[67] 25.5305651152042\n",
       "\\item[68] 21.1133856417968\n",
       "\\item[69] 17.4215378565483\n",
       "\\item[70] 20.7848363266959\n",
       "\\item[71] 25.2014885944357\n",
       "\\item[72] 21.7426577045306\n",
       "\\item[73] 24.5574495721502\n",
       "\\item[74] 24.0429571201257\n",
       "\\item[75] 25.5049971637137\n",
       "\\item[76] 23.9669302002643\n",
       "\\item[77] 22.945454031329\n",
       "\\item[78] 23.3569981843483\n",
       "\\item[79] 21.2619826623063\n",
       "\\item[80] 22.4281737318015\n",
       "\\item[81] 28.4057696820841\n",
       "\\item[82] 26.9948608623198\n",
       "\\item[83] 26.035762968389\n",
       "\\item[84] 25.0587348192214\n",
       "\\item[85] 24.7845667379329\n",
       "\\item[86] 27.7904919512373\n",
       "\\item[87] 22.1685342314671\n",
       "\\item[88] 25.8927641531678\n",
       "\\item[89] 30.6746182717619\n",
       "\\item[90] 30.8311062274245\n",
       "\\item[91] 27.1190193960488\n",
       "\\item[92] 27.4126673411187\n",
       "\\item[93] 28.9412276243971\n",
       "\\item[94] 29.0810554625794\n",
       "\\item[95] 27.0397736487632\n",
       "\\item[96] 28.6245994850461\n",
       "\\item[97] 24.7274497764368\n",
       "\\item[98] 35.7815951808593\n",
       "\\item[99] 35.1145458726225\n",
       "\\item[100] 32.2510280132342\n",
       "\\item[101] 24.5802201889238\n",
       "\\item[102] 25.5941347457338\n",
       "\\item[103] 19.7901368354644\n",
       "\\item[104] 20.311671287562\n",
       "\\item[105] 21.4348259114541\n",
       "\\item[106] 18.539940081604\n",
       "\\item[107] 17.1875599178159\n",
       "\\item[108] 20.7504902593562\n",
       "\\item[109] 22.6482911459715\n",
       "\\item[110] 19.7720366953187\n",
       "\\item[111] 20.6496586426968\n",
       "\\item[112] 26.5258674379307\n",
       "\\item[113] 20.7732363768602\n",
       "\\item[114] 20.7154831497022\n",
       "\\item[115] 25.1720888126411\n",
       "\\item[116] 20.4302559094607\n",
       "\\item[117] 23.3772462569496\n",
       "\\item[118] 23.6904326062206\n",
       "\\item[119] 20.3357836425832\n",
       "\\item[120] 20.7918087320158\n",
       "\\item[121] 21.9163207105348\n",
       "\\item[122] 22.4710777674484\n",
       "\\item[123] 20.5573855584772\n",
       "\\item[124] 16.3666197742302\n",
       "\\item[125] 20.5609981919357\n",
       "\\item[126] 22.4817844617124\n",
       "\\item[127] 14.617066327799\n",
       "\\item[128] 15.178766839628\n",
       "\\item[129] 18.9386859238066\n",
       "\\item[130] 14.0557328510346\n",
       "\\item[131] 20.0352739892632\n",
       "\\item[132] 19.4101340209302\n",
       "\\item[133] 20.0619156618911\n",
       "\\item[134] 15.7580767312742\n",
       "\\item[135] 13.2564523816053\n",
       "\\item[136] 17.2627773498836\n",
       "\\item[137] 15.8784188341927\n",
       "\\item[138] 19.3616395402926\n",
       "\\item[139] 13.8148389669953\n",
       "\\item[140] 16.4488147477162\n",
       "\\item[141] 13.5714193186728\n",
       "\\item[142] 3.98885508299594\n",
       "\\item[143] 14.5949547799219\n",
       "\\item[144] 12.148814803032\n",
       "\\item[145] 8.72822362342311\n",
       "\\item[146] 12.0358534274743\n",
       "\\item[147] 15.8208205796314\n",
       "\\item[148] 8.51499020343309\n",
       "\\item[149] 9.71844139274396\n",
       "\\item[150] 14.8045137374036\n",
       "\\item[151] 20.8385815286828\n",
       "\\item[152] 18.3010116935798\n",
       "\\item[153] 20.1228255785021\n",
       "\\item[154] 17.2860189361228\n",
       "\\item[155] 22.3660022807163\n",
       "\\item[156] 20.1037592273599\n",
       "\\item[157] 13.6212589067239\n",
       "\\item[158] 33.2598269689017\n",
       "\\item[159] 29.0301726798452\n",
       "\\item[160] 25.5675276936531\n",
       "\\item[161] 32.7082766583539\n",
       "\\item[162] 36.7746701457414\n",
       "\\item[163] 40.5576584445805\n",
       "\\item[164] 41.8472816770412\n",
       "\\item[165] 24.7886737909976\n",
       "\\item[166] 25.3788923776934\n",
       "\\item[167] 37.2034745459995\n",
       "\\item[168] 23.0874874733724\n",
       "\\item[169] 26.4027395527365\n",
       "\\item[170] 26.6538211372645\n",
       "\\item[171] 22.5551466048871\n",
       "\\item[172] 24.290828117749\n",
       "\\item[173] 22.9765721902132\n",
       "\\item[174] 29.0719430769009\n",
       "\\item[175] 26.5219433959124\n",
       "\\item[176] 30.7220905554836\n",
       "\\item[177] 25.6166930694014\n",
       "\\item[178] 29.1374097942841\n",
       "\\item[179] 31.4357196770866\n",
       "\\item[180] 32.9223156800248\n",
       "\\item[181] 34.7244046437734\n",
       "\\item[182] 27.7655211065963\n",
       "\\item[183] 33.8878732132413\n",
       "\\item[184] 30.9923803601486\n",
       "\\item[185] 22.7182000809267\n",
       "\\item[186] 24.7664780989573\n",
       "\\item[187] 35.8849722620772\n",
       "\\item[188] 33.4247672203156\n",
       "\\item[189] 32.4119914656021\n",
       "\\item[190] 34.5150994934213\n",
       "\\item[191] 30.7610948517462\n",
       "\\item[192] 30.2893414067509\n",
       "\\item[193] 32.9191871432062\n",
       "\\item[194] 32.1126077140192\n",
       "\\item[195] 31.5587100431722\n",
       "\\item[196] 40.8455572142262\n",
       "\\item[197] 36.1277007921084\n",
       "\\item[198] 32.6692080997736\n",
       "\\item[199] 34.7046911643691\n",
       "\\item[200] 30.0934516181174\n",
       "\\item[201] ...\n",
       "\\item[202] 35.5622685696683\n",
       "\\item[203] 32.7090512370312\n",
       "\\item[204] 28.6424423662638\n",
       "\\item[205] 23.5896582710816\n",
       "\\item[206] 18.5426689677345\n",
       "\\item[207] 26.8788984289196\n",
       "\\item[208] 23.2813397881904\n",
       "\\item[209] 25.5458024605245\n",
       "\\item[210] 25.4812005709242\n",
       "\\item[211] 20.5390990114911\n",
       "\\item[212] 17.6157257282672\n",
       "\\item[213] 18.3758168640772\n",
       "\\item[214] 24.2907027693969\n",
       "\\item[215] 21.3252903916502\n",
       "\\item[216] 24.8868224406515\n",
       "\\item[217] 24.8693728153879\n",
       "\\item[218] 22.8695244743481\n",
       "\\item[219] 19.4512379061528\n",
       "\\item[220] 25.1178340113773\n",
       "\\item[221] 24.6678691322565\n",
       "\\item[222] 23.6807617707272\n",
       "\\item[223] 19.3408961632679\n",
       "\\item[224] 21.1741810541344\n",
       "\\item[225] 24.2524907349313\n",
       "\\item[226] 21.5926089386146\n",
       "\\item[227] 19.9844660538899\n",
       "\\item[228] 23.3388799978055\n",
       "\\item[229] 22.140606924958\n",
       "\\item[230] 21.555099290216\n",
       "\\item[231] 20.6187290679767\n",
       "\\item[232] 20.1609717632301\n",
       "\\item[233] 19.2849038729266\n",
       "\\item[234] 22.1667232042712\n",
       "\\item[235] 21.2496577442297\n",
       "\\item[236] 21.4293930542572\n",
       "\\item[237] 30.3278879602449\n",
       "\\item[238] 22.0473497508576\n",
       "\\item[239] 27.706479124565\n",
       "\\item[240] 28.5479411681596\n",
       "\\item[241] 16.5450112143802\n",
       "\\item[242] 14.7835964098646\n",
       "\\item[243] 25.273800816857\n",
       "\\item[244] 27.5420511739339\n",
       "\\item[245] 22.1483756244775\n",
       "\\item[246] 20.4594409474612\n",
       "\\item[247] 20.5460542274534\n",
       "\\item[248] 16.880638265648\n",
       "\\item[249] 25.4025350580152\n",
       "\\item[250] 14.3248663190426\n",
       "\\item[251] 16.5948846173842\n",
       "\\item[252] 19.6370469133015\n",
       "\\item[253] 22.7180660747844\n",
       "\\item[254] 22.2021888675356\n",
       "\\item[255] 19.2054805739531\n",
       "\\item[256] 22.6661610513381\n",
       "\\item[257] 18.9319261816695\n",
       "\\item[258] 18.2284680430267\n",
       "\\item[259] 20.2315081138551\n",
       "\\item[260] 37.4944738996952\n",
       "\\item[261] 14.2819073412\n",
       "\\item[262] 15.5428624827945\n",
       "\\item[263] 10.8316232410572\n",
       "\\item[264] 23.8007290220916\n",
       "\\item[265] 32.6440736012498\n",
       "\\item[266] 34.6068404244668\n",
       "\\item[267] 24.9433133251443\n",
       "\\item[268] 25.999809100736\n",
       "\\item[269] 6.12632499643091\n",
       "\\item[270] 0.777798059570486\n",
       "\\item[271] 25.3071306417183\n",
       "\\item[272] 17.7406106453158\n",
       "\\item[273] 20.2327441401876\n",
       "\\item[274] 15.8333130075964\n",
       "\\item[275] 16.8351258716529\n",
       "\\item[276] 14.3699482548818\n",
       "\\item[277] 18.4768283307821\n",
       "\\item[278] 13.4276828046912\n",
       "\\item[279] 13.0617751178283\n",
       "\\item[280] 3.27918116096127\n",
       "\\item[281] 8.06022170824218\n",
       "\\item[282] 6.12842196430469\n",
       "\\item[283] 5.61864809983746\n",
       "\\item[284] 6.45198569812683\n",
       "\\item[285] 14.2076473519414\n",
       "\\item[286] 17.2122518314194\n",
       "\\item[287] 17.298872651552\n",
       "\\item[288] 9.89116643227552\n",
       "\\item[289] 20.2212419349943\n",
       "\\item[290] 17.941811753226\n",
       "\\item[291] 20.3044578274682\n",
       "\\item[292] 19.2955907547463\n",
       "\\item[293] 16.3363277931954\n",
       "\\item[294] 6.55162319068334\n",
       "\\item[295] 10.8901677809486\n",
       "\\item[296] 11.881458707413\n",
       "\\item[297] 17.8117450679152\n",
       "\\item[298] 18.2612658716956\n",
       "\\item[299] 12.9794878073526\n",
       "\\item[300] 7.37816360719455\n",
       "\\item[301] 8.21115861388468\n",
       "\\item[302] 8.06626192986999\n",
       "\\item[303] 19.9829478598213\n",
       "\\item[304] 13.7075636921068\n",
       "\\item[305] 19.8526845447722\n",
       "\\item[306] 15.223082976881\n",
       "\\item[307] 16.9607198099616\n",
       "\\item[308] 1.71851806781773\n",
       "\\item[309] 11.8057838715304\n",
       "\\item[310] -4.28131070918486\n",
       "\\item[311] 9.58376736863222\n",
       "\\item[312] 13.3666081096374\n",
       "\\item[313] 6.89562362585978\n",
       "\\item[314] 6.14779852032134\n",
       "\\item[315] 14.6066179423843\n",
       "\\item[316] 19.6000267019874\n",
       "\\item[317] 18.1242747588778\n",
       "\\item[318] 18.5217713215163\n",
       "\\item[319] 13.1752861045673\n",
       "\\item[320] 14.6261762418156\n",
       "\\item[321] 9.92374975966263\n",
       "\\item[322] 16.3459064665755\n",
       "\\item[323] 14.0751942552311\n",
       "\\item[324] 14.2575624260639\n",
       "\\item[325] 13.0423478746219\n",
       "\\item[326] 18.1595569337206\n",
       "\\item[327] 18.6955435411763\n",
       "\\item[328] 21.5272830021115\n",
       "\\item[329] 17.0314186086468\n",
       "\\item[330] 15.9609043533333\n",
       "\\item[331] 13.3614161071054\n",
       "\\item[332] 14.5207938390617\n",
       "\\item[333] 8.81976005426034\n",
       "\\item[334] 4.86751102276617\n",
       "\\item[335] 13.0659131295214\n",
       "\\item[336] 12.7060969931816\n",
       "\\item[337] 17.2955805920873\n",
       "\\item[338] 18.740485001511\n",
       "\\item[339] 18.0590102945304\n",
       "\\item[340] 11.5147468339055\n",
       "\\item[341] 11.974003586659\n",
       "\\item[342] 17.6834461847101\n",
       "\\item[343] 18.1269523902661\n",
       "\\item[344] 17.5183465039488\n",
       "\\item[345] 17.2274250730163\n",
       "\\item[346] 16.5227163133693\n",
       "\\item[347] 19.412910950902\n",
       "\\item[348] 18.5821523618058\n",
       "\\item[349] 22.4894479081572\n",
       "\\item[350] 15.2800013303762\n",
       "\\item[351] 15.8208933517198\n",
       "\\item[352] 12.6872558131637\n",
       "\\item[353] 12.8763379019582\n",
       "\\item[354] 17.1866853085876\n",
       "\\item[355] 18.5124760929217\n",
       "\\item[356] 19.0486053324833\n",
       "\\item[357] 20.1720892732934\n",
       "\\item[358] 19.7740731969026\n",
       "\\item[359] 22.4294076788368\n",
       "\\item[360] 20.3191185432229\n",
       "\\item[361] 17.8861625321675\n",
       "\\item[362] 14.374785228368\n",
       "\\item[363] 16.9477685071966\n",
       "\\item[364] 16.9840576215104\n",
       "\\item[365] 18.5883839676952\n",
       "\\item[366] 20.1671944106315\n",
       "\\item[367] 22.9771803171487\n",
       "\\item[368] 22.4558072635363\n",
       "\\item[369] 25.5782462654826\n",
       "\\item[370] 16.3914763163555\n",
       "\\item[371] 16.1114628043017\n",
       "\\item[372] 20.5348159958905\n",
       "\\item[373] 11.542727381565\n",
       "\\item[374] 19.2049630449181\n",
       "\\item[375] 21.8627639063056\n",
       "\\item[376] 23.4687886630714\n",
       "\\item[377] 27.098873154886\n",
       "\\item[378] 28.5699430166971\n",
       "\\item[379] 21.0839878308985\n",
       "\\item[380] 19.4551619556368\n",
       "\\item[381] 22.2222591407908\n",
       "\\item[382] 19.6559196075809\n",
       "\\item[383] 21.3253610439986\n",
       "\\item[384] 11.8558371664911\n",
       "\\item[385] 8.22386686792789\n",
       "\\item[386] 3.66399672048595\n",
       "\\item[387] 13.7590853820705\n",
       "\\item[388] 15.9311854513374\n",
       "\\item[389] 20.6266205443521\n",
       "\\item[390] 20.612494139848\n",
       "\\item[391] 16.8854196394896\n",
       "\\item[392] 14.0132078709419\n",
       "\\item[393] 19.108541438765\n",
       "\\item[394] 21.2980517444353\n",
       "\\item[395] 18.4549884086989\n",
       "\\item[396] 20.468708469606\n",
       "\\item[397] 23.5333405466671\n",
       "\\item[398] 22.3757189202883\n",
       "\\item[399] 27.6274260950359\n",
       "\\item[400] 26.1279668065958\n",
       "\\item[401] 22.3442122929036\n",
       "\\end{description*}\n"
      ],
      "text/markdown": [
       "1\n",
       ":   30.00384337701682\n",
       ":   25.02556237905323\n",
       ":   30.56759671860164\n",
       ":   28.60703648872815\n",
       ":   27.9435242328736\n",
       ":   25.25628446154117\n",
       ":   23.00180826848548\n",
       ":   19.53598842875619\n",
       ":   11.523636853130510\n",
       ":   18.92026210707611\n",
       ":   18.999496511132612\n",
       ":   21.586795681399313\n",
       ":   20.906521527835314\n",
       ":   19.552902810580915\n",
       ":   19.283482050090316\n",
       ":   19.297483208227917\n",
       ":   20.527509791162318\n",
       ":   16.911401346797819\n",
       ":   16.178011056571920\n",
       ":   18.406136033332521\n",
       ":   12.523857527095322\n",
       ":   17.671036694915123\n",
       ":   15.832881291786724\n",
       ":   13.806285346354825\n",
       ":   15.67833831546326\n",
       ":   13.386685608607427\n",
       ":   15.463976546439928\n",
       ":   14.708474280635929\n",
       ":   19.547372850961730\n",
       ":   20.876428202261431\n",
       ":   11.455117589956132\n",
       ":   18.059232945802733\n",
       ":   8.811057362214734\n",
       ":   14.282758141229535\n",
       ":   13.70675891285136\n",
       ":   23.814635264832937\n",
       ":   22.341937075689138\n",
       ":   23.108911424544339\n",
       ":   22.915026116165240\n",
       ":   31.357625688164941\n",
       ":   34.215102253700442\n",
       ":   28.020564138691643\n",
       ":   25.20386628047944\n",
       ":   24.609792725451945\n",
       ":   22.941491756555246\n",
       ":   22.096698174979147\n",
       ":   20.423200323014748\n",
       ":   18.036550883547449\n",
       ":   9.1065537721825650\n",
       ":   17.206077514125151\n",
       ":   21.281525353211452\n",
       ":   23.972222848689553\n",
       ":   27.655850802057454\n",
       ":   24.049018091157755\n",
       ":   15.361847701003456\n",
       ":   31.152649466035157\n",
       ":   24.856869781555558\n",
       ":   33.109198061646759\n",
       ":   21.775379871488860\n",
       ":   21.08493555063161\n",
       ":   17.87258039688562\n",
       ":   18.511102080220963\n",
       ":   23.987428564909464\n",
       ":   22.554088688883465\n",
       ":   23.373086442266366\n",
       ":   30.361483581462667\n",
       ":   25.530565115204268\n",
       ":   21.113385641796869\n",
       ":   17.421537856548370\n",
       ":   20.784836326695971\n",
       ":   25.201488594435772\n",
       ":   21.742657704530673\n",
       ":   24.557449572150274\n",
       ":   24.042957120125775\n",
       ":   25.504997163713776\n",
       ":   23.966930200264377\n",
       ":   22.94545403132978\n",
       ":   23.356998184348379\n",
       ":   21.261982662306380\n",
       ":   22.428173731801581\n",
       ":   28.405769682084182\n",
       ":   26.994860862319883\n",
       ":   26.03576296838984\n",
       ":   25.058734819221485\n",
       ":   24.784566737932986\n",
       ":   27.790491951237387\n",
       ":   22.168534231467188\n",
       ":   25.892764153167889\n",
       ":   30.674618271761990\n",
       ":   30.831106227424591\n",
       ":   27.119019396048892\n",
       ":   27.412667341118793\n",
       ":   28.941227624397194\n",
       ":   29.081055462579495\n",
       ":   27.039773648763296\n",
       ":   28.624599485046197\n",
       ":   24.727449776436898\n",
       ":   35.781595180859399\n",
       ":   35.1145458726225100\n",
       ":   32.2510280132342101\n",
       ":   24.5802201889238102\n",
       ":   25.5941347457338103\n",
       ":   19.7901368354644104\n",
       ":   20.311671287562105\n",
       ":   21.4348259114541106\n",
       ":   18.539940081604107\n",
       ":   17.1875599178159108\n",
       ":   20.7504902593562109\n",
       ":   22.6482911459715110\n",
       ":   19.7720366953187111\n",
       ":   20.6496586426968112\n",
       ":   26.5258674379307113\n",
       ":   20.7732363768602114\n",
       ":   20.7154831497022115\n",
       ":   25.1720888126411116\n",
       ":   20.4302559094607117\n",
       ":   23.3772462569496118\n",
       ":   23.6904326062206119\n",
       ":   20.3357836425832120\n",
       ":   20.7918087320158121\n",
       ":   21.9163207105348122\n",
       ":   22.4710777674484123\n",
       ":   20.5573855584772124\n",
       ":   16.3666197742302125\n",
       ":   20.5609981919357126\n",
       ":   22.4817844617124127\n",
       ":   14.617066327799128\n",
       ":   15.178766839628129\n",
       ":   18.9386859238066130\n",
       ":   14.0557328510346131\n",
       ":   20.0352739892632132\n",
       ":   19.4101340209302133\n",
       ":   20.0619156618911134\n",
       ":   15.7580767312742135\n",
       ":   13.2564523816053136\n",
       ":   17.2627773498836137\n",
       ":   15.8784188341927138\n",
       ":   19.3616395402926139\n",
       ":   13.8148389669953140\n",
       ":   16.4488147477162141\n",
       ":   13.5714193186728142\n",
       ":   3.98885508299594143\n",
       ":   14.5949547799219144\n",
       ":   12.148814803032145\n",
       ":   8.72822362342311146\n",
       ":   12.0358534274743147\n",
       ":   15.8208205796314148\n",
       ":   8.51499020343309149\n",
       ":   9.71844139274396150\n",
       ":   14.8045137374036151\n",
       ":   20.8385815286828152\n",
       ":   18.3010116935798153\n",
       ":   20.1228255785021154\n",
       ":   17.2860189361228155\n",
       ":   22.3660022807163156\n",
       ":   20.1037592273599157\n",
       ":   13.6212589067239158\n",
       ":   33.2598269689017159\n",
       ":   29.0301726798452160\n",
       ":   25.5675276936531161\n",
       ":   32.7082766583539162\n",
       ":   36.7746701457414163\n",
       ":   40.5576584445805164\n",
       ":   41.8472816770412165\n",
       ":   24.7886737909976166\n",
       ":   25.3788923776934167\n",
       ":   37.2034745459995168\n",
       ":   23.0874874733724169\n",
       ":   26.4027395527365170\n",
       ":   26.6538211372645171\n",
       ":   22.5551466048871172\n",
       ":   24.290828117749173\n",
       ":   22.9765721902132174\n",
       ":   29.0719430769009175\n",
       ":   26.5219433959124176\n",
       ":   30.7220905554836177\n",
       ":   25.6166930694014178\n",
       ":   29.1374097942841179\n",
       ":   31.4357196770866180\n",
       ":   32.9223156800248181\n",
       ":   34.7244046437734182\n",
       ":   27.7655211065963183\n",
       ":   33.8878732132413184\n",
       ":   30.9923803601486185\n",
       ":   22.7182000809267186\n",
       ":   24.7664780989573187\n",
       ":   35.8849722620772188\n",
       ":   33.4247672203156189\n",
       ":   32.4119914656021190\n",
       ":   34.5150994934213191\n",
       ":   30.7610948517462192\n",
       ":   30.2893414067509193\n",
       ":   32.9191871432062194\n",
       ":   32.1126077140192195\n",
       ":   31.5587100431722196\n",
       ":   40.8455572142262197\n",
       ":   36.1277007921084198\n",
       ":   32.6692080997736199\n",
       ":   34.7046911643691200\n",
       ":   30.0934516181174201\n",
       ":   ...202\n",
       ":   35.5622685696683203\n",
       ":   32.7090512370312204\n",
       ":   28.6424423662638205\n",
       ":   23.5896582710816206\n",
       ":   18.5426689677345207\n",
       ":   26.8788984289196208\n",
       ":   23.2813397881904209\n",
       ":   25.5458024605245210\n",
       ":   25.4812005709242211\n",
       ":   20.5390990114911212\n",
       ":   17.6157257282672213\n",
       ":   18.3758168640772214\n",
       ":   24.2907027693969215\n",
       ":   21.3252903916502216\n",
       ":   24.8868224406515217\n",
       ":   24.8693728153879218\n",
       ":   22.8695244743481219\n",
       ":   19.4512379061528220\n",
       ":   25.1178340113773221\n",
       ":   24.6678691322565222\n",
       ":   23.6807617707272223\n",
       ":   19.3408961632679224\n",
       ":   21.1741810541344225\n",
       ":   24.2524907349313226\n",
       ":   21.5926089386146227\n",
       ":   19.9844660538899228\n",
       ":   23.3388799978055229\n",
       ":   22.140606924958230\n",
       ":   21.555099290216231\n",
       ":   20.6187290679767232\n",
       ":   20.1609717632301233\n",
       ":   19.2849038729266234\n",
       ":   22.1667232042712235\n",
       ":   21.2496577442297236\n",
       ":   21.4293930542572237\n",
       ":   30.3278879602449238\n",
       ":   22.0473497508576239\n",
       ":   27.706479124565240\n",
       ":   28.5479411681596241\n",
       ":   16.5450112143802242\n",
       ":   14.7835964098646243\n",
       ":   25.273800816857244\n",
       ":   27.5420511739339245\n",
       ":   22.1483756244775246\n",
       ":   20.4594409474612247\n",
       ":   20.5460542274534248\n",
       ":   16.880638265648249\n",
       ":   25.4025350580152250\n",
       ":   14.3248663190426251\n",
       ":   16.5948846173842252\n",
       ":   19.6370469133015253\n",
       ":   22.7180660747844254\n",
       ":   22.2021888675356255\n",
       ":   19.2054805739531256\n",
       ":   22.6661610513381257\n",
       ":   18.9319261816695258\n",
       ":   18.2284680430267259\n",
       ":   20.2315081138551260\n",
       ":   37.4944738996952261\n",
       ":   14.2819073412262\n",
       ":   15.5428624827945263\n",
       ":   10.8316232410572264\n",
       ":   23.8007290220916265\n",
       ":   32.6440736012498266\n",
       ":   34.6068404244668267\n",
       ":   24.9433133251443268\n",
       ":   25.999809100736269\n",
       ":   6.12632499643091270\n",
       ":   0.777798059570486271\n",
       ":   25.3071306417183272\n",
       ":   17.7406106453158273\n",
       ":   20.2327441401876274\n",
       ":   15.8333130075964275\n",
       ":   16.8351258716529276\n",
       ":   14.3699482548818277\n",
       ":   18.4768283307821278\n",
       ":   13.4276828046912279\n",
       ":   13.0617751178283280\n",
       ":   3.27918116096127281\n",
       ":   8.06022170824218282\n",
       ":   6.12842196430469283\n",
       ":   5.61864809983746284\n",
       ":   6.45198569812683285\n",
       ":   14.2076473519414286\n",
       ":   17.2122518314194287\n",
       ":   17.298872651552288\n",
       ":   9.89116643227552289\n",
       ":   20.2212419349943290\n",
       ":   17.941811753226291\n",
       ":   20.3044578274682292\n",
       ":   19.2955907547463293\n",
       ":   16.3363277931954294\n",
       ":   6.55162319068334295\n",
       ":   10.8901677809486296\n",
       ":   11.881458707413297\n",
       ":   17.8117450679152298\n",
       ":   18.2612658716956299\n",
       ":   12.9794878073526300\n",
       ":   7.37816360719455301\n",
       ":   8.21115861388468302\n",
       ":   8.06626192986999303\n",
       ":   19.9829478598213304\n",
       ":   13.7075636921068305\n",
       ":   19.8526845447722306\n",
       ":   15.223082976881307\n",
       ":   16.9607198099616308\n",
       ":   1.71851806781773309\n",
       ":   11.8057838715304310\n",
       ":   -4.28131070918486311\n",
       ":   9.58376736863222312\n",
       ":   13.3666081096374313\n",
       ":   6.89562362585978314\n",
       ":   6.14779852032134315\n",
       ":   14.6066179423843316\n",
       ":   19.6000267019874317\n",
       ":   18.1242747588778318\n",
       ":   18.5217713215163319\n",
       ":   13.1752861045673320\n",
       ":   14.6261762418156321\n",
       ":   9.92374975966263322\n",
       ":   16.3459064665755323\n",
       ":   14.0751942552311324\n",
       ":   14.2575624260639325\n",
       ":   13.0423478746219326\n",
       ":   18.1595569337206327\n",
       ":   18.6955435411763328\n",
       ":   21.5272830021115329\n",
       ":   17.0314186086468330\n",
       ":   15.9609043533333331\n",
       ":   13.3614161071054332\n",
       ":   14.5207938390617333\n",
       ":   8.81976005426034334\n",
       ":   4.86751102276617335\n",
       ":   13.0659131295214336\n",
       ":   12.7060969931816337\n",
       ":   17.2955805920873338\n",
       ":   18.740485001511339\n",
       ":   18.0590102945304340\n",
       ":   11.5147468339055341\n",
       ":   11.974003586659342\n",
       ":   17.6834461847101343\n",
       ":   18.1269523902661344\n",
       ":   17.5183465039488345\n",
       ":   17.2274250730163346\n",
       ":   16.5227163133693347\n",
       ":   19.412910950902348\n",
       ":   18.5821523618058349\n",
       ":   22.4894479081572350\n",
       ":   15.2800013303762351\n",
       ":   15.8208933517198352\n",
       ":   12.6872558131637353\n",
       ":   12.8763379019582354\n",
       ":   17.1866853085876355\n",
       ":   18.5124760929217356\n",
       ":   19.0486053324833357\n",
       ":   20.1720892732934358\n",
       ":   19.7740731969026359\n",
       ":   22.4294076788368360\n",
       ":   20.3191185432229361\n",
       ":   17.8861625321675362\n",
       ":   14.374785228368363\n",
       ":   16.9477685071966364\n",
       ":   16.9840576215104365\n",
       ":   18.5883839676952366\n",
       ":   20.1671944106315367\n",
       ":   22.9771803171487368\n",
       ":   22.4558072635363369\n",
       ":   25.5782462654826370\n",
       ":   16.3914763163555371\n",
       ":   16.1114628043017372\n",
       ":   20.5348159958905373\n",
       ":   11.542727381565374\n",
       ":   19.2049630449181375\n",
       ":   21.8627639063056376\n",
       ":   23.4687886630714377\n",
       ":   27.098873154886378\n",
       ":   28.5699430166971379\n",
       ":   21.0839878308985380\n",
       ":   19.4551619556368381\n",
       ":   22.2222591407908382\n",
       ":   19.6559196075809383\n",
       ":   21.3253610439986384\n",
       ":   11.8558371664911385\n",
       ":   8.22386686792789386\n",
       ":   3.66399672048595387\n",
       ":   13.7590853820705388\n",
       ":   15.9311854513374389\n",
       ":   20.6266205443521390\n",
       ":   20.612494139848391\n",
       ":   16.8854196394896392\n",
       ":   14.0132078709419393\n",
       ":   19.108541438765394\n",
       ":   21.2980517444353395\n",
       ":   18.4549884086989396\n",
       ":   20.468708469606397\n",
       ":   23.5333405466671398\n",
       ":   22.3757189202883399\n",
       ":   27.6274260950359400\n",
       ":   26.1279668065958401\n",
       ":   22.3442122929036\n",
       "\n"
      ],
      "text/plain": [
       "         1          2          3          4          5          6          7 \n",
       "30.0038434 25.0255624 30.5675967 28.6070365 27.9435242 25.2562845 23.0018083 \n",
       "         8          9         10         11         12         13         14 \n",
       "19.5359884 11.5236369 18.9202621 18.9994965 21.5867957 20.9065215 19.5529028 \n",
       "        15         16         17         18         19         20         21 \n",
       "19.2834821 19.2974832 20.5275098 16.9114013 16.1780111 18.4061360 12.5238575 \n",
       "        22         23         24         25         26         27         28 \n",
       "17.6710367 15.8328813 13.8062853 15.6783383 13.3866856 15.4639765 14.7084743 \n",
       "        29         30         31         32         33         34         35 \n",
       "19.5473729 20.8764282 11.4551176 18.0592329  8.8110574 14.2827581 13.7067589 \n",
       "        36         37         38         39         40         41         42 \n",
       "23.8146353 22.3419371 23.1089114 22.9150261 31.3576257 34.2151023 28.0205641 \n",
       "        43         44         45         46         47         48         49 \n",
       "25.2038663 24.6097927 22.9414918 22.0966982 20.4232003 18.0365509  9.1065538 \n",
       "        50         51         52         53         54         55         56 \n",
       "17.2060775 21.2815254 23.9722228 27.6558508 24.0490181 15.3618477 31.1526495 \n",
       "        57         58         59         60         61         62         63 \n",
       "24.8568698 33.1091981 21.7753799 21.0849356 17.8725804 18.5111021 23.9874286 \n",
       "        64         65         66         67         68         69         70 \n",
       "22.5540887 23.3730864 30.3614836 25.5305651 21.1133856 17.4215379 20.7848363 \n",
       "        71         72         73         74         75         76         77 \n",
       "25.2014886 21.7426577 24.5574496 24.0429571 25.5049972 23.9669302 22.9454540 \n",
       "        78         79         80         81         82         83         84 \n",
       "23.3569982 21.2619827 22.4281737 28.4057697 26.9948609 26.0357630 25.0587348 \n",
       "        85         86         87         88         89         90         91 \n",
       "24.7845667 27.7904920 22.1685342 25.8927642 30.6746183 30.8311062 27.1190194 \n",
       "        92         93         94         95         96         97         98 \n",
       "27.4126673 28.9412276 29.0810555 27.0397736 28.6245995 24.7274498 35.7815952 \n",
       "        99        100        101        102        103        104        105 \n",
       "35.1145459 32.2510280 24.5802202 25.5941347 19.7901368 20.3116713 21.4348259 \n",
       "       106        107        108        109        110        111        112 \n",
       "18.5399401 17.1875599 20.7504903 22.6482911 19.7720367 20.6496586 26.5258674 \n",
       "       113        114        115        116        117        118        119 \n",
       "20.7732364 20.7154831 25.1720888 20.4302559 23.3772463 23.6904326 20.3357836 \n",
       "       120        121        122        123        124        125        126 \n",
       "20.7918087 21.9163207 22.4710778 20.5573856 16.3666198 20.5609982 22.4817845 \n",
       "       127        128        129        130        131        132        133 \n",
       "14.6170663 15.1787668 18.9386859 14.0557329 20.0352740 19.4101340 20.0619157 \n",
       "       134        135        136        137        138        139        140 \n",
       "15.7580767 13.2564524 17.2627773 15.8784188 19.3616395 13.8148390 16.4488147 \n",
       "       141        142        143        144        145        146        147 \n",
       "13.5714193  3.9888551 14.5949548 12.1488148  8.7282236 12.0358534 15.8208206 \n",
       "       148        149        150        151        152        153        154 \n",
       " 8.5149902  9.7184414 14.8045137 20.8385815 18.3010117 20.1228256 17.2860189 \n",
       "       155        156        157        158        159        160        161 \n",
       "22.3660023 20.1037592 13.6212589 33.2598270 29.0301727 25.5675277 32.7082767 \n",
       "       162        163        164        165        166        167        168 \n",
       "36.7746701 40.5576584 41.8472817 24.7886738 25.3788924 37.2034745 23.0874875 \n",
       "       169        170        171        172        173        174        175 \n",
       "26.4027396 26.6538211 22.5551466 24.2908281 22.9765722 29.0719431 26.5219434 \n",
       "       176        177        178        179        180        181        182 \n",
       "30.7220906 25.6166931 29.1374098 31.4357197 32.9223157 34.7244046 27.7655211 \n",
       "       183        184        185        186        187        188        189 \n",
       "33.8878732 30.9923804 22.7182001 24.7664781 35.8849723 33.4247672 32.4119915 \n",
       "       190        191        192        193        194        195        196 \n",
       "34.5150995 30.7610949 30.2893414 32.9191871 32.1126077 31.5587100 40.8455572 \n",
       "       197        198        199        200        201        202        203 \n",
       "36.1277008 32.6692081 34.7046912 30.0934516 30.6439391 29.2871950 37.0714839 \n",
       "       204        205        206        207        208        209        210 \n",
       "42.0319312 43.1894984 22.6903480 23.6828471 17.8544721 23.4942899 17.0058772 \n",
       "       211        212        213        214        215        216        217 \n",
       "22.3925110 17.0604275 22.7389292 25.2194255 11.1191674 24.5104915 26.6033477 \n",
       "       218        219        220        221        222        223        224 \n",
       "28.3551871 24.9152546 29.6865277 33.1841975 23.7745666 32.1405196 29.7458199 \n",
       "       225        226        227        228        229        230        231 \n",
       "38.3710245 39.8146187 37.5860575 32.3995325 35.4566524 31.2341151 24.4844923 \n",
       "       232        233        234        235        236        237        238 \n",
       "33.2883729 38.0481048 37.1632863 31.7138352 25.2670557 30.1001074 32.7198716 \n",
       "       239        240        241        242        243        244        245 \n",
       "28.4271706 28.4294068 27.2937594 23.7426248 24.1200789 27.4020841 16.3285756 \n",
       "       246        247        248        249        250        251        252 \n",
       "13.3989126 20.0163878 19.8618443 21.2883131 24.0798915 24.2063355 25.0421582 \n",
       "       253        254        255        256        257        258        259 \n",
       "24.9196401 29.9456337 23.9722832 21.6958089 37.5110924 43.3023904 36.4836142 \n",
       "       260        261        262        263        264        265        266 \n",
       "34.9898859 34.8121151 37.1663133 40.9892850 34.4463409 35.8339755 28.2457430 \n",
       "       267        268        269        270        271        272        273 \n",
       "31.2267359 40.8395575 39.3179239 25.7081791 22.3029553 27.2034097 28.5116947 \n",
       "       274        275        276        277        278        279        280 \n",
       "35.4767660 36.1063916 33.7966827 35.6108586 34.8399338 30.3519266 35.3098070 \n",
       "       281        282        283        284        285        286        287 \n",
       "38.7975697 34.3312319 40.3396307 44.6730834 31.5968909 27.3565923 20.1017415 \n",
       "       288        289        290        291        292        293        294 \n",
       "27.0420667 27.2136458 26.9139584 33.4356331 34.4034963 31.8333982 25.8178324 \n",
       "       295        296        297        298        299        300        301 \n",
       "24.4298235 28.4576434 27.3626700 19.5392876 29.1130984 31.9105461 30.7715945 \n",
       "       302        303        304        305        306        307        308 \n",
       "28.9427587 28.8819102 32.7988723 33.2090546 30.7683179 35.5622686 32.7090512 \n",
       "       309        310        311        312        313        314        315 \n",
       "28.6424424 23.5896583 18.5426690 26.8788984 23.2813398 25.5458025 25.4812006 \n",
       "       316        317        318        319        320        321        322 \n",
       "20.5390990 17.6157257 18.3758169 24.2907028 21.3252904 24.8868224 24.8693728 \n",
       "       323        324        325        326        327        328        329 \n",
       "22.8695245 19.4512379 25.1178340 24.6678691 23.6807618 19.3408962 21.1741811 \n",
       "       330        331        332        333        334        335        336 \n",
       "24.2524907 21.5926089 19.9844661 23.3388800 22.1406069 21.5550993 20.6187291 \n",
       "       337        338        339        340        341        342        343 \n",
       "20.1609718 19.2849039 22.1667232 21.2496577 21.4293931 30.3278880 22.0473498 \n",
       "       344        345        346        347        348        349        350 \n",
       "27.7064791 28.5479412 16.5450112 14.7835964 25.2738008 27.5420512 22.1483756 \n",
       "       351        352        353        354        355        356        357 \n",
       "20.4594409 20.5460542 16.8806383 25.4025351 14.3248663 16.5948846 19.6370469 \n",
       "       358        359        360        361        362        363        364 \n",
       "22.7180661 22.2021889 19.2054806 22.6661611 18.9319262 18.2284680 20.2315081 \n",
       "       365        366        367        368        369        370        371 \n",
       "37.4944739 14.2819073 15.5428625 10.8316232 23.8007290 32.6440736 34.6068404 \n",
       "       372        373        374        375        376        377        378 \n",
       "24.9433133 25.9998091  6.1263250  0.7777981 25.3071306 17.7406106 20.2327441 \n",
       "       379        380        381        382        383        384        385 \n",
       "15.8333130 16.8351259 14.3699483 18.4768283 13.4276828 13.0617751  3.2791812 \n",
       "       386        387        388        389        390        391        392 \n",
       " 8.0602217  6.1284220  5.6186481  6.4519857 14.2076474 17.2122518 17.2988727 \n",
       "       393        394        395        396        397        398        399 \n",
       " 9.8911664 20.2212419 17.9418118 20.3044578 19.2955908 16.3363278  6.5516232 \n",
       "       400        401        402        403        404        405        406 \n",
       "10.8901678 11.8814587 17.8117451 18.2612659 12.9794878  7.3781636  8.2111586 \n",
       "       407        408        409        410        411        412        413 \n",
       " 8.0662619 19.9829479 13.7075637 19.8526845 15.2230830 16.9607198  1.7185181 \n",
       "       414        415        416        417        418        419        420 \n",
       "11.8057839 -4.2813107  9.5837674 13.3666081  6.8956236  6.1477985 14.6066179 \n",
       "       421        422        423        424        425        426        427 \n",
       "19.6000267 18.1242748 18.5217713 13.1752861 14.6261762  9.9237498 16.3459065 \n",
       "       428        429        430        431        432        433        434 \n",
       "14.0751943 14.2575624 13.0423479 18.1595569 18.6955435 21.5272830 17.0314186 \n",
       "       435        436        437        438        439        440        441 \n",
       "15.9609044 13.3614161 14.5207938  8.8197601  4.8675110 13.0659131 12.7060970 \n",
       "       442        443        444        445        446        447        448 \n",
       "17.2955806 18.7404850 18.0590103 11.5147468 11.9740036 17.6834462 18.1269524 \n",
       "       449        450        451        452        453        454        455 \n",
       "17.5183465 17.2274251 16.5227163 19.4129110 18.5821524 22.4894479 15.2800013 \n",
       "       456        457        458        459        460        461        462 \n",
       "15.8208934 12.6872558 12.8763379 17.1866853 18.5124761 19.0486053 20.1720893 \n",
       "       463        464        465        466        467        468        469 \n",
       "19.7740732 22.4294077 20.3191185 17.8861625 14.3747852 16.9477685 16.9840576 \n",
       "       470        471        472        473        474        475        476 \n",
       "18.5883840 20.1671944 22.9771803 22.4558073 25.5782463 16.3914763 16.1114628 \n",
       "       477        478        479        480        481        482        483 \n",
       "20.5348160 11.5427274 19.2049630 21.8627639 23.4687887 27.0988732 28.5699430 \n",
       "       484        485        486        487        488        489        490 \n",
       "21.0839878 19.4551620 22.2222591 19.6559196 21.3253610 11.8558372  8.2238669 \n",
       "       491        492        493        494        495        496        497 \n",
       " 3.6639967 13.7590854 15.9311855 20.6266205 20.6124941 16.8854196 14.0132079 \n",
       "       498        499        500        501        502        503        504 \n",
       "19.1085414 21.2980517 18.4549884 20.4687085 23.5333405 22.3757189 27.6274261 \n",
       "       505        506 \n",
       "26.1279668 22.3442123 "
      ]
     },
     "metadata": {},
     "output_type": "display_data"
    }
   ],
   "source": [
    "# Predict on full Boston dataset\n",
    "predict(model, Boston)"
   ]
  },
  {
   "cell_type": "markdown",
   "metadata": {},
   "source": [
    "# 2. Classification models: fitting them and evaluating their performance\n",
    "\n",
    "In this chapter, you'll fit classification models with train() and evaluate their out-of-sample performance using cross-validation and area under the curve (AUC)."
   ]
  },
  {
   "cell_type": "code",
   "execution_count": 26,
   "metadata": {},
   "outputs": [],
   "source": [
    "# Try a 60/40 split\n",
    "# \n",
    "# As you saw in the video, you'll be working with the Sonar dataset in this chapter, \n",
    "# using a 60% training set and a 40% test set. \n",
    "# We'll practice making a train/test split one more time, just to be sure you have the hang of it. \n",
    "# Recall that you can use the sample() function to get a random permutation of the row indices in a dataset, \n",
    "# to use when making train/test splits, e.g.:\n",
    "# \n",
    "# n_obs <- nrow(my_data)\n",
    "# permuted_rows <- sample(n_obs)\n",
    "# And then use those row indices to randomly reorder the dataset, e.g.:\n",
    "# \n",
    "# my_data <- my_data[permuted_rows, ]\n",
    "# Once your dataset is randomly ordered, you can split off the first 60% as a training set and the last 40% as a test set.\n",
    "# \n",
    "# Instructions\n",
    "# \n",
    "# Get the number of observations (rows) in Sonar, assigning to n_obs.\n",
    "# Shuffle the row indices of Sonar and store the result in permuted_rows.\n",
    "# Use permuted_rows to randomly reorder the rows of Sonar, saving as Sonar_shuffled.\n",
    "# Identify the proper row to split on for a 60/40 split. Store this row number as split.\n",
    "# Save the first 60% of Sonar_shuffled as a training set.\n",
    "# Save the last 40% of Sonar_shuffled as the test set."
   ]
  },
  {
   "cell_type": "code",
   "execution_count": 28,
   "metadata": {},
   "outputs": [],
   "source": [
    "#install.packages('mlbench')"
   ]
  },
  {
   "cell_type": "code",
   "execution_count": 30,
   "metadata": {},
   "outputs": [
    {
     "data": {
      "text/html": [
       "125"
      ],
      "text/latex": [
       "125"
      ],
      "text/markdown": [
       "125"
      ],
      "text/plain": [
       "[1] 125"
      ]
     },
     "metadata": {},
     "output_type": "display_data"
    }
   ],
   "source": [
    "library(mlbench)\n",
    "data(Sonar)\n",
    "# Shuffle row indices: rows\n",
    "set.seed(421)\n",
    "rows <- sample(nrow(Sonar))\n",
    "\n",
    "# • Use rows to randomly reorder the rows of Sonar.\n",
    "# Randomly order data\n",
    "Sonar <- Sonar[rows, ]\n",
    "# • Identify the proper row to split on for a 60/40 split. Store this row number as split.\n",
    "# Identify row to split on: split\n",
    "split <- round(nrow(Sonar)*.60, 0)\n",
    "split\n",
    "\n",
    "# • Save the fi rst 60% as a training set.\n",
    "# Create train\n",
    "train <- Sonar[1:split, ]\n",
    "# • Save the last 40% as the test set.\n",
    "# Create test\n",
    "test <- Sonar[(split+1):nrow(Sonar), ]"
   ]
  },
  {
   "cell_type": "code",
   "execution_count": 31,
   "metadata": {},
   "outputs": [],
   "source": [
    "# Fit a logistic regression model\n",
    "# \n",
    "# Once you have your random training and test sets you can fit a logistic regression model \n",
    "# to your training set using the glm() function. glm() is a more advanced version of lm() that allows \n",
    "# for more varied types of regression models, aside from plain vanilla ordinary least squares regression.\n",
    "# \n",
    "# Be sure to pass the argument family = \"binomial\" to glm() to specify that you want to do logistic \n",
    "# (rather than linear) regression. For example:\n",
    "# \n",
    "# glm(Target ~ ., family = \"binomial\", dataset)\n",
    "# \n",
    "# Don't worry about warnings like glm.fit: algorithm did not converge or \n",
    "# glm.fit: fitted probabilities numerically 0 or 1 occurred. \n",
    "# These are common on smaller datasets and usually don't cause any issues. \n",
    "# They typically mean your dataset is perfectly separable, \n",
    "# which can cause problems for the math behind the model, \n",
    "# but R's glm() function is almost always robust enough to handle this case with no problems.\n",
    "# \n",
    "# Once you have a glm() model fit to your dataset, you can predict the outcome (e.g. rock or mine) \n",
    "# on the test set using the predict() function with the argument type = \"response\":\n",
    "# \n",
    "# predict(my_model, test, type = \"response\")\n",
    "# Instructions\n",
    "# \n",
    "# Fit a logistic regression called model to predict Class using all other variables as predictors. Use the training set for Sonar.\n",
    "# Predict on the test set using that model. Call the result p like you've done before."
   ]
  },
  {
   "cell_type": "code",
   "execution_count": 32,
   "metadata": {},
   "outputs": [],
   "source": [
    "# Fit glm model: model\n",
    "model <- glm(Class ~ ., data = train, family = \"binomial\")\n",
    "\n",
    "#• Predict on the test set using that model. Call the result p like you’ve done before.\n",
    "# Predict on test: p\n",
    "p <- predict(model, newdata = test, type = \"response\")"
   ]
  },
  {
   "cell_type": "code",
   "execution_count": 33,
   "metadata": {},
   "outputs": [],
   "source": [
    "# Calculate a confusion matrix\n",
    "# \n",
    "# As you saw in the video, a confusion matrix is a very useful tool for calibrating \n",
    "# the output of a model and examining all possible outcomes of your predictions \n",
    "# (true positive, true negative, false positive, false negative).\n",
    "# \n",
    "# Before you make your confusion matrix, you need to \"cut\" your predicted probabilities \n",
    "# at a given threshold to turn probabilities into a factor of class predictions. \n",
    "# Combine ifelse() with factor() as follows:\n",
    "# \n",
    "# pos_or_neg <- ifelse(probability_prediction > threshold, positive_class, negative_class)\n",
    "# p_class <- factor(pos_or_neg, levels = levels(test_values))\n",
    "# confusionMatrix() in caret improves on table() from base R by adding lots of useful \n",
    "# ancillary statistics in addition to the base rates in the table. \n",
    "# You can calculate the confusion matrix (and the associated statistics) \n",
    "# using the predicted outcomes as well as the actual outcomes, e.g.:\n",
    "# \n",
    "# confusionMatrix(p_class, test_values)\n",
    "# Instructions\n",
    "# \n",
    "# Use ifelse() to create a character vector, m_or_r that is the positive class, \"M\",\n",
    "# when p is greater than 0.5, and the negative class, \"R\", otherwise.\n",
    "# \n",
    "# Convert m_or_r to be a factor, p_class, with levels the same as those of test[[\"Class\"]].\n",
    "# Make a confusion matrix with confusionMatrix(), passing p_class and the \"Class\" column from the test dataset."
   ]
  },
  {
   "cell_type": "code",
   "execution_count": 35,
   "metadata": {},
   "outputs": [],
   "source": [
    "#install.packages('e1071')"
   ]
  },
  {
   "cell_type": "code",
   "execution_count": 36,
   "metadata": {},
   "outputs": [],
   "source": [
    "library(e1071)"
   ]
  },
  {
   "cell_type": "code",
   "execution_count": 37,
   "metadata": {
    "scrolled": false
   },
   "outputs": [
    {
     "data": {
      "text/plain": [
       "Confusion Matrix and Statistics\n",
       "\n",
       "          Reference\n",
       "Prediction  M  R\n",
       "         M  6 24\n",
       "         R 34 19\n",
       "                                          \n",
       "               Accuracy : 0.3012          \n",
       "                 95% CI : (0.2053, 0.4118)\n",
       "    No Information Rate : 0.5181          \n",
       "    P-Value [Acc > NIR] : 1.0000          \n",
       "                                          \n",
       "                  Kappa : -0.4117         \n",
       "                                          \n",
       " Mcnemar's Test P-Value : 0.2373          \n",
       "                                          \n",
       "            Sensitivity : 0.15000         \n",
       "            Specificity : 0.44186         \n",
       "         Pos Pred Value : 0.20000         \n",
       "         Neg Pred Value : 0.35849         \n",
       "             Prevalence : 0.48193         \n",
       "         Detection Rate : 0.07229         \n",
       "   Detection Prevalence : 0.36145         \n",
       "      Balanced Accuracy : 0.29593         \n",
       "                                          \n",
       "       'Positive' Class : M               \n",
       "                                          "
      ]
     },
     "metadata": {},
     "output_type": "display_data"
    },
    {
     "data": {
      "text/plain": [
       "       \n",
       "p_class  M  R\n",
       "      M  6 24\n",
       "      R 34 19"
      ]
     },
     "metadata": {},
     "output_type": "display_data"
    }
   ],
   "source": [
    "#• Use ifelse() to create a character vector, m_or_r that is the positive class, \"M\", when p is greater\n",
    "#than 0.5, and the negative class, \"R\", otherwise.\n",
    "library(caret)\n",
    "# Calculate class probabilities: p_class\n",
    "m_or_r <- ifelse(p > 0.50, \"M\", \"R\")\n",
    "\n",
    "#• Convert m_or_r to be a factor, p_class, with levels the same as those of test[[\"Class\"]].\n",
    "#p_class <- factor(m_or_r, levels = levels(test[[\"Class\"]]))\n",
    "# OR\n",
    "p_class <- factor(m_or_r, levels = c(\"M\", \"R\"))\n",
    "\n",
    "#• Make a confusion matrix with confusionMatrix(), passing p_class and the \"Class\" column from\n",
    "#the test dataset.\n",
    "# Create confusion matrix\n",
    "caret::confusionMatrix(p_class, test$Class)\n",
    "\n",
    "# Using table()\n",
    "table(p_class, test$Class)"
   ]
  },
  {
   "cell_type": "code",
   "execution_count": 39,
   "metadata": {},
   "outputs": [
    {
     "data": {
      "text/plain": [
       "Confusion Matrix and Statistics\n",
       "\n",
       "          Reference\n",
       "Prediction  M  R\n",
       "         M  6 24\n",
       "         R 34 19\n",
       "                                          \n",
       "               Accuracy : 0.3012          \n",
       "                 95% CI : (0.2053, 0.4118)\n",
       "    No Information Rate : 0.5181          \n",
       "    P-Value [Acc > NIR] : 1.0000          \n",
       "                                          \n",
       "                  Kappa : -0.4117         \n",
       "                                          \n",
       " Mcnemar's Test P-Value : 0.2373          \n",
       "                                          \n",
       "            Sensitivity : 0.15000         \n",
       "            Specificity : 0.44186         \n",
       "         Pos Pred Value : 0.20000         \n",
       "         Neg Pred Value : 0.35849         \n",
       "             Prevalence : 0.48193         \n",
       "         Detection Rate : 0.07229         \n",
       "   Detection Prevalence : 0.36145         \n",
       "      Balanced Accuracy : 0.29593         \n",
       "                                          \n",
       "       'Positive' Class : M               \n",
       "                                          "
      ]
     },
     "metadata": {},
     "output_type": "display_data"
    }
   ],
   "source": [
    "# Calculating accuracy—Use confusionMatrix(p_class, test[[\"Class\"]]) to calculate a confusion matrix\n",
    "# on the test set.\n",
    "# • What is the test set accuracy of this model (rounded to the nearest percent)?\n",
    "RES <- caret::confusionMatrix(p_class, test[[\"Class\"]])\n",
    "RES"
   ]
  },
  {
   "cell_type": "code",
   "execution_count": 40,
   "metadata": {},
   "outputs": [
    {
     "data": {
      "text/html": [
       "<strong>Accuracy:</strong> 0.301204819277108"
      ],
      "text/latex": [
       "\\textbf{Accuracy:} 0.301204819277108"
      ],
      "text/markdown": [
       "**Accuracy:** 0.301204819277108"
      ],
      "text/plain": [
       " Accuracy \n",
       "0.3012048 "
      ]
     },
     "metadata": {},
     "output_type": "display_data"
    }
   ],
   "source": [
    "RES$overall[1]"
   ]
  },
  {
   "cell_type": "code",
   "execution_count": 41,
   "metadata": {},
   "outputs": [
    {
     "data": {
      "text/html": [
       "<strong>Sensitivity:</strong> 15"
      ],
      "text/latex": [
       "\\textbf{Sensitivity:} 15"
      ],
      "text/markdown": [
       "**Sensitivity:** 15"
      ],
      "text/plain": [
       "Sensitivity \n",
       "         15 "
      ]
     },
     "metadata": {},
     "output_type": "display_data"
    }
   ],
   "source": [
    "#• What is the test set true positive rate (or sensitivity) of this model (rounded to the nearest percent)?\n",
    "Sens <- round(RES[[4]][\"Sensitivity\"]*100, 1)\n",
    "Sens"
   ]
  },
  {
   "cell_type": "code",
   "execution_count": 42,
   "metadata": {},
   "outputs": [
    {
     "data": {
      "text/html": [
       "<strong>Specificity:</strong> 44.2"
      ],
      "text/latex": [
       "\\textbf{Specificity:} 44.2"
      ],
      "text/markdown": [
       "**Specificity:** 44.2"
      ],
      "text/plain": [
       "Specificity \n",
       "       44.2 "
      ]
     },
     "metadata": {},
     "output_type": "display_data"
    }
   ],
   "source": [
    "#• What is the test set true negative rate (or specifi city) of this model (rounded to the nearest percent)?\n",
    "Spec <- round(RES[[4]][\"Specificity\"]*100, 1)\n",
    "Spec"
   ]
  },
  {
   "cell_type": "code",
   "execution_count": 43,
   "metadata": {},
   "outputs": [],
   "source": [
    "# Try another threshold\n",
    "# \n",
    "# In the previous exercises, you used a threshold of 0.50 to cut your predicted probabilities \n",
    "# to make class predictions (rock vs mine). However, this classification threshold does not always \n",
    "# align with the goals for a given modeling problem.\n",
    "# \n",
    "# For example, pretend you want to identify the objects you are really certain are mines. \n",
    "# In this case, you might want to use a probability threshold of 0.90 to get fewer predicted mines, \n",
    "# but with greater confidence in each prediction.\n",
    "# \n",
    "# The code pattern for cutting probabilities into predicted classes, then calculating a confusion matrix, \n",
    "# was shown in Exercise 7 of this chapter.\n",
    "# \n",
    "# Instructions\n",
    "# \n",
    "# Use ifelse() to create a character vector, m_or_r that is the positive class, \"M\", \n",
    "# when p is greater than 0.9, and the negative class, \"R\", otherwise.\n",
    "# Convert m_or_r to be a factor, p_class, with levels the same as those of test[[\"Class\"]].\n",
    "# Make a confusion matrix with confusionMatrix(), passing p_class and the \"Class\" column from the test dataset."
   ]
  },
  {
   "cell_type": "code",
   "execution_count": 44,
   "metadata": {},
   "outputs": [
    {
     "data": {
      "text/plain": [
       "Confusion Matrix and Statistics\n",
       "\n",
       "          Reference\n",
       "Prediction  M  R\n",
       "         M  6 24\n",
       "         R 34 19\n",
       "                                          \n",
       "               Accuracy : 0.3012          \n",
       "                 95% CI : (0.2053, 0.4118)\n",
       "    No Information Rate : 0.5181          \n",
       "    P-Value [Acc > NIR] : 1.0000          \n",
       "                                          \n",
       "                  Kappa : -0.4117         \n",
       "                                          \n",
       " Mcnemar's Test P-Value : 0.2373          \n",
       "                                          \n",
       "            Sensitivity : 0.15000         \n",
       "            Specificity : 0.44186         \n",
       "         Pos Pred Value : 0.20000         \n",
       "         Neg Pred Value : 0.35849         \n",
       "             Prevalence : 0.48193         \n",
       "         Detection Rate : 0.07229         \n",
       "   Detection Prevalence : 0.36145         \n",
       "      Balanced Accuracy : 0.29593         \n",
       "                                          \n",
       "       'Positive' Class : M               \n",
       "                                          "
      ]
     },
     "metadata": {},
     "output_type": "display_data"
    }
   ],
   "source": [
    "#• Use ifelse() to create a character vector, m_or_r that is the positive class, \"M\", when p is greater\n",
    "# than 0.9, and the negative class, \"R\", otherwise.\n",
    "# Apply threshold of 0.9\n",
    "m_or_r <- ifelse(p > 0.90, \"M\", \"R\")\n",
    "\n",
    "#• Convert m_or_r to be a factor, p_class, with levels the same as those of test[[\"Class\"]].\n",
    "p_class <- factor(m_or_r, levels = levels(test[[\"Class\"]]))\n",
    "\n",
    "#• Make a confusion matrix with confusionMatrix(), passing p_class and the \"Class\" column from\n",
    "# the test dataset.\n",
    "# Create confusion matrix\n",
    "confusionMatrix(p_class, test[[\"Class\"]])"
   ]
  },
  {
   "cell_type": "code",
   "execution_count": 45,
   "metadata": {},
   "outputs": [],
   "source": [
    "# From probabilites to confusion matrix\n",
    "# \n",
    "# Conversely, say you want to be really certain that your model correctly identifies all the mines as mines. \n",
    "# In this case, you might use a prediction threshold of 0.10, instead of 0.90.\n",
    "# \n",
    "# The code pattern for cutting probabilities into predicted classes, \n",
    "# then calculating a confusion matrix, was shown in Exercise 7 of this chapter.\n",
    "# \n",
    "# Instructions\n",
    "# \n",
    "# Use ifelse() to create a character vector, m_or_r that is \n",
    "# the positive class, \"M\", when p is greater than 0.1, and the negative class, \"R\", otherwise.\n",
    "# Convert m_or_r to be a factor, p_class, with levels the same as those of test[[\"Class\"]].\n",
    "# Make a confusion matrix with confusionMatrix(), passing p_class and the \"Class\" column from the test dataset."
   ]
  },
  {
   "cell_type": "code",
   "execution_count": 46,
   "metadata": {},
   "outputs": [
    {
     "data": {
      "text/plain": [
       "Confusion Matrix and Statistics\n",
       "\n",
       "          Reference\n",
       "Prediction  M  R\n",
       "         M  6 25\n",
       "         R 34 18\n",
       "                                          \n",
       "               Accuracy : 0.2892          \n",
       "                 95% CI : (0.1948, 0.3991)\n",
       "    No Information Rate : 0.5181          \n",
       "    P-Value [Acc > NIR] : 1.0000          \n",
       "                                          \n",
       "                  Kappa : -0.4348         \n",
       "                                          \n",
       " Mcnemar's Test P-Value : 0.2976          \n",
       "                                          \n",
       "            Sensitivity : 0.15000         \n",
       "            Specificity : 0.41860         \n",
       "         Pos Pred Value : 0.19355         \n",
       "         Neg Pred Value : 0.34615         \n",
       "             Prevalence : 0.48193         \n",
       "         Detection Rate : 0.07229         \n",
       "   Detection Prevalence : 0.37349         \n",
       "      Balanced Accuracy : 0.28430         \n",
       "                                          \n",
       "       'Positive' Class : M               \n",
       "                                          "
      ]
     },
     "metadata": {},
     "output_type": "display_data"
    }
   ],
   "source": [
    "# # If p exceeds threshold of 0.1, M else R: m_or_r\n",
    "m_or_r <- ifelse(p > 0.10, \"M\", \"R\")\n",
    "\n",
    "# Convert to factor: p_class\n",
    "p_class <- factor(m_or_r, levels = levels(test[[\"Class\"]]))\n",
    "\n",
    "# Create confusion matrix\n",
    "confusionMatrix(p_class, test[[\"Class\"]])"
   ]
  },
  {
   "cell_type": "code",
   "execution_count": 48,
   "metadata": {},
   "outputs": [],
   "source": [
    "# Plot an ROC curve\n",
    "# \n",
    "# As you saw in the video, an ROC curve is a really useful shortcut for summarizing \n",
    "# the performance of a classifier over all possible thresholds. \n",
    "# This saves you a lot of tedious work computing class predictions for many different thresholds \n",
    "# and examining the confusion matrix for each.\n",
    "# \n",
    "# My favorite package for computing ROC curves is caTools, which contains a function called colAUC(). \n",
    "# This function is very user-friendly and can actually calculate ROC curves for multiple predictors at once. \n",
    "# In this case, you only need to calculate the ROC curve for one predictor, e.g.:\n",
    "# \n",
    "# colAUC(predicted_probabilities, actual, plotROC = TRUE)\n",
    "# The function will return a score called AUC (more on that later) and the plotROC = TRUE \n",
    "# argument will return the plot of the ROC curve for visual inspection.\n",
    "# \n",
    "# Instructions\n",
    "# model, test, and train from the last exercise using the sonar data are loaded in your workspace.\n",
    "# \n",
    "# Predict probabilities (i.e. type = \"response\") on the test set, then store the result as p.\n",
    "# Make an ROC curve using the predicted test set probabilities."
   ]
  },
  {
   "cell_type": "code",
   "execution_count": 48,
   "metadata": {},
   "outputs": [],
   "source": [
    "#install.packages('caTools')"
   ]
  },
  {
   "cell_type": "code",
   "execution_count": 49,
   "metadata": {},
   "outputs": [],
   "source": [
    "library(caTools)"
   ]
  },
  {
   "cell_type": "code",
   "execution_count": 50,
   "metadata": {},
   "outputs": [
    {
     "data": {
      "text/html": [
       "<table>\n",
       "<caption>A matrix: 1 × 1 of type dbl</caption>\n",
       "<tbody>\n",
       "\t<tr><th scope=row>M vs. R</th><td>0.7520349</td></tr>\n",
       "</tbody>\n",
       "</table>\n"
      ],
      "text/latex": [
       "A matrix: 1 × 1 of type dbl\n",
       "\\begin{tabular}{r|l}\n",
       "\tM vs. R & 0.7520349\\\\\n",
       "\\end{tabular}\n"
      ],
      "text/markdown": [
       "\n",
       "A matrix: 1 × 1 of type dbl\n",
       "\n",
       "| M vs. R | 0.7520349 |\n",
       "\n"
      ],
      "text/plain": [
       "        [,1]     \n",
       "M vs. R 0.7520349"
      ]
     },
     "metadata": {},
     "output_type": "display_data"
    },
    {
     "data": {
      "image/png": "[encoded data removed]",
      "text/plain": [
       "Plot with title \"ROC Curves\""
      ]
     },
     "metadata": {
      "image/png": {
       "height": 420,
       "width": 420
      },
      "text/plain": {
       "height": 420,
       "width": 420
      }
     },
     "output_type": "display_data"
    }
   ],
   "source": [
    "# Predict on test: p\n",
    "p <- predict(model, newdata = test, type = \"response\")\n",
    "\n",
    "# Make ROC curve\n",
    "colAUC(p, test$Class, plotROC = TRUE)"
   ]
  },
  {
   "cell_type": "code",
   "execution_count": 51,
   "metadata": {},
   "outputs": [],
   "source": [
    "# Customizing trainControl\n",
    "# \n",
    "# As you saw in the video, area under the ROC curve is a very useful, \n",
    "# single-number summary of a model's ability to discriminate the positive from the negative class \n",
    "# (e.g. mines from rocks). An AUC of 0.5 is no better than random guessing, an AUC of 1.0 is a perfectly predictive model, \n",
    "# and an AUC of 0.0 is perfectly anti-predictive (which rarely happens).\n",
    "# \n",
    "# This is often a much more useful metric than simply ranking models by their accuracy at a set threshold, \n",
    "# as different models might require different calibration steps (looking at a confusion matrix at each step) \n",
    "# to find the optimal classification threshold for that model.\n",
    "# \n",
    "# You can use the trainControl() function in caret to use AUC (instead of acccuracy), \n",
    "# to tune the parameters of your models. The twoClassSummary() convenience function allows you to do this easily.\n",
    "# \n",
    "# When using twoClassSummary(), be sure to always include the argument classProbs = TRUE \n",
    "# or your model will throw an error! \n",
    "# (You cannot calculate AUC with just class predictions. You need to have class probabilities as well.)\n",
    "# \n",
    "# Instructions\n",
    "# \n",
    "# Customize the trainControl object to use twoClassSummary rather than defaultSummary.\n",
    "# Use 10-fold cross-validation.\n",
    "# Be sure to tell trainControl() to return class probabilities."
   ]
  },
  {
   "cell_type": "code",
   "execution_count": 52,
   "metadata": {},
   "outputs": [],
   "source": [
    "# Create trainControl object: myControl\n",
    "myControl <- trainControl(\n",
    "method = \"cv\",\n",
    "number = 10,\n",
    "summaryFunction = twoClassSummary,\n",
    "classProbs = TRUE, # IMPORTANT!\n",
    "verboseIter = FALSE\n",
    ")"
   ]
  },
  {
   "cell_type": "code",
   "execution_count": 53,
   "metadata": {},
   "outputs": [],
   "source": [
    "# Using custom trainControl\n",
    "# \n",
    "# Now that you have a custom trainControl object, it's easy to fit caret models \n",
    "# that use AUC rather than accuracy to tune and evaluate the model. \n",
    "# You can just pass your custom trainControl object to the train() function via the trControl argument, e.g.:\n",
    "# \n",
    "# train(<standard arguments here>, trControl = myControl)\n",
    "# This syntax gives you a convenient way to store a lot of custom modeling parameters and \n",
    "# then use them across multiple different calls to train(). \n",
    "# You will make extensive use of this trick in Chapter 5.\n",
    "# \n",
    "# Instructions\n",
    "# \n",
    "# Use train() to predict Class from all other variables in the Sonar data (that is, Class ~ .). \n",
    "# It should be a glm model (that is, set method to \"glm\") using your custom trainControl object, \n",
    "# myControl. Save the result to model.\n",
    "# Print the model to the console and examine its output."
   ]
  },
  {
   "cell_type": "code",
   "execution_count": 54,
   "metadata": {},
   "outputs": [
    {
     "data": {
      "text/plain": [
       "Generalized Linear Model \n",
       "\n",
       "208 samples\n",
       " 60 predictor\n",
       "  2 classes: 'M', 'R' \n",
       "\n",
       "No pre-processing\n",
       "Resampling: Cross-Validated (10 fold) \n",
       "Summary of sample sizes: 186, 187, 187, 187, 187, 188, ... \n",
       "Resampling results:\n",
       "\n",
       "  ROC        Sens       Spec     \n",
       "  0.7541414  0.7742424  0.7422222\n"
      ]
     },
     "metadata": {},
     "output_type": "display_data"
    }
   ],
   "source": [
    "# Train glm with custom trainControl: model\n",
    "model <- train(Class ~ ., data = Sonar,\n",
    "method = \"glm\",\n",
    "trControl = myControl)\n",
    "\n",
    "\n",
    "# Print model to console\n",
    "model"
   ]
  },
  {
   "cell_type": "markdown",
   "metadata": {},
   "source": [
    "# 3. Tuning model parameters to improve performance\n",
    "\n",
    "In this chapter, you will use the train() function to tweak model parameters through cross-validation and grid search."
   ]
  },
  {
   "cell_type": "code",
   "execution_count": 55,
   "metadata": {},
   "outputs": [],
   "source": [
    "# Fit a random forest\n",
    "# \n",
    "# As you saw in the video, random forest models are much more flexible than linear models, \n",
    "# and can model complicated nonlinear effects as well as automatically capture interactions between variables. \n",
    "# They tend to give very good results on real world data, so let's try one out on the wine quality dataset, \n",
    "# where the goal is to predict the human-evaluated quality of a batch of wine, \n",
    "# given some of the machine-measured chemical and physical properties of that batch.\n",
    "# \n",
    "# Fitting a random forest model is exactly the same as fitting a generalized linear regression model, \n",
    "# as you did in the previous chapter. You simply change the method argument in the train function to be \"ranger\". \n",
    "# The ranger package is a rewrite of R's classic randomForest package and fits models much faster, \n",
    "# but gives almost exactly the same results. We suggest that all beginners use the ranger package for random forest modeling.\n",
    "# \n",
    "# Instructions\n",
    "# \n",
    "# Train a random forest called model on the wine quality dataset, wine, such that quality is \n",
    "# the response variable and all other variables are explanatory variables.\n",
    "# Use method = \"ranger\".\n",
    "# Use a tuneLength of 1.\n",
    "# Use 5 CV folds.\n",
    "# Print model to the console."
   ]
  },
  {
   "cell_type": "code",
   "execution_count": 57,
   "metadata": {
    "scrolled": false
   },
   "outputs": [],
   "source": [
    "#install.packages('ranger')"
   ]
  },
  {
   "cell_type": "code",
   "execution_count": 58,
   "metadata": {},
   "outputs": [],
   "source": [
    "library(ranger)\n",
    "wine <- readRDS(\"wine_100.rds\") "
   ]
  },
  {
   "cell_type": "code",
   "execution_count": 59,
   "metadata": {
    "scrolled": true
   },
   "outputs": [
    {
     "data": {
      "text/plain": [
       "Random Forest \n",
       "\n",
       "100 samples\n",
       " 12 predictor\n",
       "\n",
       "No pre-processing\n",
       "Resampling: Cross-Validated (5 fold) \n",
       "Summary of sample sizes: 81, 80, 80, 79, 80 \n",
       "Resampling results across tuning parameters:\n",
       "\n",
       "  splitrule   RMSE       Rsquared   MAE      \n",
       "  variance    0.6626037  0.3012791  0.4977559\n",
       "  extratrees  0.6823933  0.2807088  0.5131265\n",
       "\n",
       "Tuning parameter 'mtry' was held constant at a value of 3\n",
       "Tuning\n",
       " parameter 'min.node.size' was held constant at a value of 5\n",
       "RMSE was used to select the optimal model using the smallest value.\n",
       "The final values used for the model were mtry = 3, splitrule = variance\n",
       " and min.node.size = 5."
      ]
     },
     "metadata": {},
     "output_type": "display_data"
    }
   ],
   "source": [
    "# Fit random forest: model\n",
    "model <- train(\n",
    "quality ~.,\n",
    "tuneLength = 1,\n",
    "data = wine,\n",
    "method = \"ranger\",\n",
    "trControl = trainControl(method = \"cv\",\n",
    "number = 5,\n",
    "verboseIter = FALSE)\n",
    ")\n",
    "# Print model to console\n",
    "model"
   ]
  },
  {
   "cell_type": "code",
   "execution_count": 60,
   "metadata": {},
   "outputs": [],
   "source": [
    "# Try a longer tune length\n",
    "# \n",
    "# Recall from the video that random forest models have a primary tuning parameter of mtry, \n",
    "# which controls how many variables are exposed to the splitting search routine at each split. \n",
    "# For example, suppose that a tree has a total of 10 splits and mtry = 2. \n",
    "# This means that there are 10 samples of 2 predictors each time a split is evaluated.\n",
    "# \n",
    "# Use a larger tuning grid this time, but stick to the defaults provided by the train() function. \n",
    "# Try a tuneLength of 3, rather than 1, to explore some more potential models, \n",
    "# nd plot the resulting model using the plot function.\n",
    "# \n",
    "# Instructions\n",
    "# \n",
    "# Train a random forest model, model, using the wine dataset on the quality variable \n",
    "# with all other variables as explanatory variables. (This will take a few seconds to run, so be patient!)\n",
    "# Use method = \"ranger\".\n",
    "# Change the tuneLength to 3.\n",
    "# Use 5 CV folds.\n",
    "# Print model to the console.\n",
    "# Plot the model after fitting it."
   ]
  },
  {
   "cell_type": "code",
   "execution_count": 61,
   "metadata": {},
   "outputs": [
    {
     "name": "stdout",
     "output_type": "stream",
     "text": [
      "Random Forest \n",
      "\n",
      "100 samples\n",
      " 12 predictor\n",
      "\n",
      "No pre-processing\n",
      "Resampling: Cross-Validated (5 fold) \n",
      "Summary of sample sizes: 80, 79, 80, 80, 81 \n",
      "Resampling results across tuning parameters:\n",
      "\n",
      "  mtry  splitrule   RMSE       Rsquared   MAE      \n",
      "   2    variance    0.6742438  0.2642438  0.5079130\n",
      "   2    extratrees  0.7142613  0.1808283  0.5305116\n",
      "   7    variance    0.6505718  0.2936282  0.4995250\n",
      "   7    extratrees  0.6864215  0.2372753  0.5205419\n",
      "  12    variance    0.6389208  0.3051476  0.4979301\n",
      "  12    extratrees  0.6860589  0.2291082  0.5245878\n",
      "\n",
      "Tuning parameter 'min.node.size' was held constant at a value of 5\n",
      "RMSE was used to select the optimal model using the smallest value.\n",
      "The final values used for the model were mtry = 12, splitrule = variance\n",
      " and min.node.size = 5.\n"
     ]
    },
    {
     "data": {
      "image/png": "[encoded data removed]",
      "text/plain": [
       "plot without title"
      ]
     },
     "metadata": {
      "image/png": {
       "height": 420,
       "width": 420
      },
      "text/plain": {
       "height": 420,
       "width": 420
      }
     },
     "output_type": "display_data"
    }
   ],
   "source": [
    "# Fit random forest: model\n",
    "model <- train(\n",
    "quality ~ .,\n",
    "tuneLength = 3,\n",
    "data = wine, method = \"ranger\",\n",
    "trControl = trainControl(method = \"cv\", number = 5, verboseIter = FALSE)\n",
    ")\n",
    "# Print model to console\n",
    "print(model)\n",
    "\n",
    "\n",
    "# Plot model\n",
    "plot(model)"
   ]
  },
  {
   "cell_type": "code",
   "execution_count": 62,
   "metadata": {},
   "outputs": [],
   "source": [
    "# Fit a random forest with custom tuning\n",
    "# \n",
    "# Now that you've explored the default tuning grids provided by the train() function, \n",
    "# let's customize your models a bit more.\n",
    "# \n",
    "# You can provide any number of values for mtry, from 2 up to the number of columns in the dataset. \n",
    "# In practice, there are diminishing returns for much larger values of mtry, \n",
    "# so you will use a custom tuning grid that explores 2 simple models (mtry = 2 and mtry = 3) \n",
    "# as well as one more complicated model (mtry = 7).\n",
    "# \n",
    "# Instructions 1/2\n",
    "# \n",
    "# Define a custom tuning grid.\n",
    "# Set the number of variables to possibly split at each node, .mtry, to a vector of 2, 3, and 7.\n",
    "# Set the rule to split on, .splitrule, to \"variance\".\n",
    "# Set the minimum node size, .min.node.size, to 5."
   ]
  },
  {
   "cell_type": "code",
   "execution_count": 63,
   "metadata": {
    "scrolled": true
   },
   "outputs": [
    {
     "data": {
      "text/plain": [
       "Random Forest \n",
       "\n",
       "100 samples\n",
       " 12 predictor\n",
       "\n",
       "No pre-processing\n",
       "Resampling: Cross-Validated (5 fold) \n",
       "Summary of sample sizes: 80, 80, 80, 80, 80 \n",
       "Resampling results across tuning parameters:\n",
       "\n",
       "  mtry  RMSE       Rsquared   MAE      \n",
       "  2     0.6703098  0.3741231  0.5023300\n",
       "  3     0.6695720  0.3655992  0.5079683\n",
       "  7     0.6640879  0.3803438  0.5055400\n",
       "\n",
       "Tuning parameter 'splitrule' was held constant at a value of variance\n",
       "\n",
       "Tuning parameter 'min.node.size' was held constant at a value of 5\n",
       "RMSE was used to select the optimal model using the smallest value.\n",
       "The final values used for the model were mtry = 7, splitrule = variance\n",
       " and min.node.size = 5."
      ]
     },
     "metadata": {},
     "output_type": "display_data"
    },
    {
     "data": {
      "image/png": "[encoded data removed]",
      "text/plain": [
       "plot without title"
      ]
     },
     "metadata": {
      "image/png": {
       "height": 420,
       "width": 420
      },
      "text/plain": {
       "height": 420,
       "width": 420
      }
     },
     "output_type": "display_data"
    }
   ],
   "source": [
    "# Define the tuning grid: tuneGrid\n",
    "tuneGrid <- data.frame(\n",
    ".mtry = c(2, 3, 7),\n",
    ".splitrule = \"variance\",\n",
    ".min.node.size = 5\n",
    ")\n",
    "# Fit random forest: model\n",
    "model <- train(\n",
    "quality ~ .,\n",
    "tuneGrid = tuneGrid,\n",
    "data = wine,\n",
    "method = \"ranger\",\n",
    "trControl = trainControl(method = \"cv\",\n",
    "number = 5,\n",
    "verboseIter = FALSE)\n",
    ")\n",
    "\n",
    "# Print model to console\n",
    "model\n",
    "\n",
    "# Plot model\n",
    "plot(model)"
   ]
  },
  {
   "cell_type": "code",
   "execution_count": 64,
   "metadata": {},
   "outputs": [],
   "source": [
    "# Make a custom trainControl\n",
    "# \n",
    "# The wine quality dataset was a regression problem, but now you are looking at a classification problem. \n",
    "# This is a simulated dataset based on the \"don't overfit\" competition on Kaggle a number of years ago.\n",
    "# \n",
    "# Classification problems are a little more complicated than regression problems \n",
    "# because you have to provide a custom summaryFunction to the train() function \n",
    "# to use the AUC metric to rank your models. Start by making a custom trainControl, \n",
    "# as you did in the previous chapter. Be sure to set classProbs = TRUE, \n",
    "# therwise the twoClassSummary for summaryFunction will break.\n",
    "# \n",
    "# Instructions\n",
    "# \n",
    "# Make a custom trainControl called myControl for classification using the trainControl function.\n",
    "# \n",
    "# Use 10 CV folds.\n",
    "# Use twoClassSummary for the summaryFunction.\n",
    "# Be sure to set classProbs = TRUE."
   ]
  },
  {
   "cell_type": "code",
   "execution_count": 65,
   "metadata": {},
   "outputs": [],
   "source": [
    "# Create custom trainControl: myControl\n",
    "myControl <- trainControl(\n",
    "method = \"cv\",\n",
    "number = 10,\n",
    "summaryFunction = twoClassSummary,\n",
    "classProbs = TRUE, # IMPORTANT!\n",
    "verboseIter = FALSE\n",
    ")"
   ]
  },
  {
   "cell_type": "code",
   "execution_count": 66,
   "metadata": {},
   "outputs": [],
   "source": [
    "# Fit glmnet with custom trainControl\n",
    "# \n",
    "# Now that you have a custom trainControl object, fit a glmnet model to the \"don't overfit\" dataset. \n",
    "# Recall from the video that glmnet is an extension of the generalized linear regression model (or glm) \n",
    "# that places constraints on the magnitude of the coefficients to prevent overfitting. \n",
    "# This is more commonly known as \"penalized\" regression modeling and is a very useful technique \n",
    "# on datasets with many predictors and few values.\n",
    "# \n",
    "# glmnet is capable of fitting two different kinds of penalized models, controlled by the alpha parameter:\n",
    "# \n",
    "# Ridge regression (or alpha = 0)\n",
    "# Lasso regression (or alpha = 1)\n",
    "# You'll now fit a glmnet model to the \"don't overfit\" dataset using the defaults provided by the caret package.\n",
    "# \n",
    "# Instructions\n",
    "# \n",
    "# Train a glmnet model called model on the overfit data. \n",
    "# Use the custom trainControl from the previous exercise (myControl). \n",
    "# The variable y is the response variable and all other variables are explanatory variables.\n",
    "# Print the model to the console.\n",
    "# Use the max() function to find the maximum of the ROC statistic contained somewhere in model[[\"results\"]]."
   ]
  },
  {
   "cell_type": "code",
   "execution_count": 68,
   "metadata": {},
   "outputs": [],
   "source": [
    "#install.packages('glmnet')"
   ]
  },
  {
   "cell_type": "code",
   "execution_count": 70,
   "metadata": {
    "scrolled": true
   },
   "outputs": [],
   "source": [
    "library(data.table)\n",
    "library(glmnet)"
   ]
  },
  {
   "cell_type": "code",
   "execution_count": 71,
   "metadata": {},
   "outputs": [],
   "source": [
    "overfit <- fread(\"https://assets.datacamp.com/production/repositories/223/datasets/0bd5f7c30d9aec3e1f1fa677a19bee3af407453a/overfit.csv\")"
   ]
  },
  {
   "cell_type": "code",
   "execution_count": 72,
   "metadata": {
    "scrolled": true
   },
   "outputs": [
    {
     "name": "stdout",
     "output_type": "stream",
     "text": [
      "glmnet \n",
      "\n",
      "250 samples\n",
      "200 predictors\n",
      "  2 classes: 'class1', 'class2' \n",
      "\n",
      "No pre-processing\n",
      "Resampling: Cross-Validated (10 fold) \n",
      "Summary of sample sizes: 225, 225, 226, 224, 225, 225, ... \n",
      "Resampling results across tuning parameters:\n",
      "\n",
      "  alpha  lambda        ROC        Sens  Spec     \n",
      "  0.10   0.0001012745  0.4458333  0.00  0.9784420\n",
      "  0.10   0.0010127448  0.4587862  0.00  0.9914855\n",
      "  0.10   0.0101274483  0.4605978  0.00  0.9914855\n",
      "  0.55   0.0001012745  0.4604167  0.00  0.9655797\n",
      "  0.55   0.0010127448  0.4670290  0.00  0.9614130\n",
      "  0.55   0.0101274483  0.4992754  0.00  0.9699275\n",
      "  1.00   0.0001012745  0.4449275  0.05  0.9356884\n",
      "  1.00   0.0010127448  0.4493659  0.00  0.9442029\n",
      "  1.00   0.0101274483  0.5320652  0.00  0.9786232\n",
      "\n",
      "ROC was used to select the optimal model using the largest value.\n",
      "The final values used for the model were alpha = 1 and lambda = 0.01012745.\n"
     ]
    },
    {
     "data": {
      "text/html": [
       "0.532065217391304"
      ],
      "text/latex": [
       "0.532065217391304"
      ],
      "text/markdown": [
       "0.532065217391304"
      ],
      "text/plain": [
       "[1] 0.5320652"
      ]
     },
     "metadata": {},
     "output_type": "display_data"
    }
   ],
   "source": [
    "# Fit glmnet model: model\n",
    "model <- train(y ~ .,\n",
    "data = overfit,\n",
    "method = \"glmnet\",\n",
    "trControl = myControl)\n",
    "\n",
    "# Print model to console\n",
    "print(model)\n",
    "\n",
    "# Print maximum ROC statistic\n",
    "max(model[[\"results\"]][[\"ROC\"]])"
   ]
  },
  {
   "cell_type": "code",
   "execution_count": 73,
   "metadata": {},
   "outputs": [],
   "source": [
    "# glmnet with custom trainControl and tuning\n",
    "# \n",
    "# As you saw in the video, the glmnet model actually fits many models at once \n",
    "# (one of the great things about the package). You can exploit this by passing a large number of lambda values, \n",
    "# which control the amount of penalization in the model. train() is smart enough to only fit one model \n",
    "# per alpha value and pass all of the lambda values at once for simultaneous fitting.\n",
    "# \n",
    "# My favorite tuning grid for glmnet models is:\n",
    "# \n",
    "# expand.grid(\n",
    "#   alpha = 0:1,\n",
    "#   lambda = seq(0.0001, 1, length = 100)\n",
    "# )\n",
    "# This grid explores a large number of lambda values (100, in fact), from a very small one to a very large one. \n",
    "# (You could increase the maximum lambda to 10, but in this exercise 1 is a good upper bound.)\n",
    "# \n",
    "# If you want to explore fewer models, you can use a shorter lambda sequence. For example, \n",
    "# lambda = seq(0.0001, 1, length = 10) would fit 10 models per value of alpha.\n",
    "# \n",
    "# You also look at the two forms of penalized models with this tuneGrid: ridge regression and lasso regression. \n",
    "# alpha = 0 is pure ridge regression, and alpha = 1 is pure lasso regression. \n",
    "# You can fit a mixture of the two models (i.e. an elastic net) using an alpha between 0 and 1. \n",
    "# For example, alpha = 0.05 would be 95% ridge regression and 5% lasso regression.\n",
    "# \n",
    "# In this problem you'll just explore the 2 extremes – pure ridge and pure lasso regression – \n",
    "# for the purpose of illustrating their differences.\n",
    "# \n",
    "# Instructions\n",
    "# \n",
    "# Train a glmnet model on the overfit data such that y is the response variable and all \n",
    "# other variables are explanatory variables. Make sure to use your custom trainControl from \n",
    "# the previous exercise (myControl). Also, use a custom tuneGrid to explore \n",
    "# alpha = 0:1 and 20 values of lambda between 0.0001 and 1 per value of alpha.\n",
    "# Print model to the console.\n",
    "# Print the max() of the ROC statistic in model[[\"results\"]]. \n",
    "# You can access it using model[[\"results\"]][[\"ROC\"]]."
   ]
  },
  {
   "cell_type": "code",
   "execution_count": 74,
   "metadata": {
    "scrolled": true
   },
   "outputs": [
    {
     "data": {
      "text/plain": [
       "glmnet \n",
       "\n",
       "250 samples\n",
       "200 predictors\n",
       "  2 classes: 'class1', 'class2' \n",
       "\n",
       "No pre-processing\n",
       "Resampling: Cross-Validated (10 fold) \n",
       "Summary of sample sizes: 225, 225, 224, 225, 224, 225, ... \n",
       "Resampling results across tuning parameters:\n",
       "\n",
       "  alpha  lambda      ROC        Sens  Spec     \n",
       "  0      0.00010000  0.4432065  0     0.9914855\n",
       "  0      0.05272632  0.4458333  0     0.9956522\n",
       "  0      0.10535263  0.4586051  0     1.0000000\n",
       "  0      0.15797895  0.4737319  0     1.0000000\n",
       "  0      0.21060526  0.4846014  0     1.0000000\n",
       "  0      0.26323158  0.4866848  0     1.0000000\n",
       "  0      0.31585789  0.4910326  0     1.0000000\n",
       "  0      0.36848421  0.4952899  0     1.0000000\n",
       "  0      0.42111053  0.5018116  0     1.0000000\n",
       "  0      0.47373684  0.5038949  0     1.0000000\n",
       "  0      0.52636316  0.5059783  0     1.0000000\n",
       "  0      0.57898947  0.5059783  0     1.0000000\n",
       "  0      0.63161579  0.5059783  0     1.0000000\n",
       "  0      0.68424211  0.5059783  0     1.0000000\n",
       "  0      0.73686842  0.5059783  0     1.0000000\n",
       "  0      0.78949474  0.5081522  0     1.0000000\n",
       "  0      0.84212105  0.5081522  0     1.0000000\n",
       "  0      0.89474737  0.5081522  0     1.0000000\n",
       "  0      0.94737368  0.5081522  0     1.0000000\n",
       "  0      1.00000000  0.5081522  0     1.0000000\n",
       "  1      0.00010000  0.3567935  0     0.9442029\n",
       "  1      0.05272632  0.5362319  0     1.0000000\n",
       "  1      0.10535263  0.5000000  0     1.0000000\n",
       "  1      0.15797895  0.5000000  0     1.0000000\n",
       "  1      0.21060526  0.5000000  0     1.0000000\n",
       "  1      0.26323158  0.5000000  0     1.0000000\n",
       "  1      0.31585789  0.5000000  0     1.0000000\n",
       "  1      0.36848421  0.5000000  0     1.0000000\n",
       "  1      0.42111053  0.5000000  0     1.0000000\n",
       "  1      0.47373684  0.5000000  0     1.0000000\n",
       "  1      0.52636316  0.5000000  0     1.0000000\n",
       "  1      0.57898947  0.5000000  0     1.0000000\n",
       "  1      0.63161579  0.5000000  0     1.0000000\n",
       "  1      0.68424211  0.5000000  0     1.0000000\n",
       "  1      0.73686842  0.5000000  0     1.0000000\n",
       "  1      0.78949474  0.5000000  0     1.0000000\n",
       "  1      0.84212105  0.5000000  0     1.0000000\n",
       "  1      0.89474737  0.5000000  0     1.0000000\n",
       "  1      0.94737368  0.5000000  0     1.0000000\n",
       "  1      1.00000000  0.5000000  0     1.0000000\n",
       "\n",
       "ROC was used to select the optimal model using the largest value.\n",
       "The final values used for the model were alpha = 1 and lambda = 0.05272632."
      ]
     },
     "metadata": {},
     "output_type": "display_data"
    },
    {
     "data": {
      "text/html": [
       "0.536231884057971"
      ],
      "text/latex": [
       "0.536231884057971"
      ],
      "text/markdown": [
       "0.536231884057971"
      ],
      "text/plain": [
       "[1] 0.5362319"
      ]
     },
     "metadata": {},
     "output_type": "display_data"
    }
   ],
   "source": [
    "# Train glmnet with custom trainControl and tuning: model\n",
    "model <- train(\n",
    "y ~ ., data = overfit,\n",
    "tuneGrid = expand.grid(alpha = 0:1,\n",
    "lambda = seq(0.0001, 1, length = 20)),\n",
    "method = \"glmnet\",\n",
    "trControl = myControl\n",
    ")\n",
    "\n",
    "# Print model to console\n",
    "model\n",
    "\n",
    "# Print maximum ROC statistic\n",
    "max(model[[\"results\"]][[\"ROC\"]])"
   ]
  },
  {
   "cell_type": "markdown",
   "metadata": {},
   "source": [
    "# 4. Preprocessing your data\n",
    "\n",
    "In this chapter, you will practice using train() to preprocess data before fitting models, improving your ability to making accurate predictions."
   ]
  },
  {
   "cell_type": "code",
   "execution_count": 75,
   "metadata": {},
   "outputs": [],
   "source": [
    "# Apply median imputation\n",
    "# \n",
    "# In this chapter, you'll be using a version of the Wisconsin Breast Cancer dataset. \n",
    "# This dataset presents a classic binary classification problem: 50% of the samples are benign, 50% are malignant, \n",
    "# and the challenge is to identify which are which.\n",
    "# \n",
    "# This dataset is interesting because many of the predictors contain missing values and most rows of \n",
    "# the dataset have at least one missing value. This presents a modeling challenge, \n",
    "# because most machine learning algorithms cannot handle missing values out of the box. \n",
    "# For example, your first instinct might be to fit a logistic regression model to this data, \n",
    "# but prior to doing this you need a strategy for handling the NAs.\n",
    "# \n",
    "# Fortunately, the train() function in caret contains an argument called preProcess, \n",
    "# which allows you to specify that median imputation should be used to fill in the missing values. \n",
    "# In previous chapters, you created models with the train() function using formulas such as y ~ .. \n",
    "# An alternative way is to specify the x and y arguments to train(), \n",
    "# where x is an object with samples in rows and features in columns \n",
    "# and y is a numeric or factor vector containing the outcomes. \n",
    "# Said differently, x is a matrix or data frame that contains the whole dataset \n",
    "# you'd use for the data argument to the lm() call, for example, but excludes the response variable column; \n",
    "# y is a vector that contains just the response variable column.\n",
    "# \n",
    "# For this exercise, the argument x to train() is loaded in your workspace as breast_cancer_x and y as breast_cancer_y.\n",
    "# \n",
    "# Instructions\n",
    "# \n",
    "# Use the train() function to fit a glm model called median_model to the breast cancer dataset. \n",
    "# Use preProcess = \"medianImpute\" to handle the missing values.\n",
    "# Print median_model to the console."
   ]
  },
  {
   "cell_type": "code",
   "execution_count": 76,
   "metadata": {},
   "outputs": [],
   "source": [
    "load('BreastCancer.RData')"
   ]
  },
  {
   "cell_type": "code",
   "execution_count": 77,
   "metadata": {},
   "outputs": [],
   "source": [
    "# Create custom trainControl: myControl\n",
    "myControl <- trainControl(\n",
    "method = \"cv\",\n",
    "number = 10,\n",
    "summaryFunction = twoClassSummary,\n",
    "classProbs = TRUE, # IMPORTANT!\n",
    "verboseIter = FALSE\n",
    ")"
   ]
  },
  {
   "cell_type": "code",
   "execution_count": 78,
   "metadata": {},
   "outputs": [
    {
     "data": {
      "text/plain": [
       "Generalized Linear Model \n",
       "\n",
       "699 samples\n",
       "  9 predictor\n",
       "  2 classes: 'benign', 'malignant' \n",
       "\n",
       "Pre-processing: median imputation (9) \n",
       "Resampling: Cross-Validated (10 fold) \n",
       "Summary of sample sizes: 629, 628, 629, 629, 629, 630, ... \n",
       "Resampling results:\n",
       "\n",
       "  ROC        Sens       Spec  \n",
       "  0.9918603  0.9695652  0.9375\n"
      ]
     },
     "metadata": {},
     "output_type": "display_data"
    }
   ],
   "source": [
    "# Apply median imputation: model\n",
    "model <- train(\n",
    "x = breast_cancer_x, y = breast_cancer_y,\n",
    "method = \"glm\",\n",
    "trControl = myControl,\n",
    "preProcess = \"medianImpute\"\n",
    ")\n",
    "# Print model to console\n",
    "model"
   ]
  },
  {
   "cell_type": "code",
   "execution_count": 79,
   "metadata": {},
   "outputs": [],
   "source": [
    "# Use KNN imputation\n",
    "# \n",
    "# In the previous exercise, you used median imputation to fill in missing values in the breast cancer dataset,\n",
    "# but that is not the only possible method for dealing with missing data.\n",
    "# \n",
    "# An alternative to median imputation is k-nearest neighbors, or KNN, imputation. \n",
    "# This is a more advanced form of imputation where missing values are replaced with values from other rows \n",
    "# that are similar to the current row. While this is a lot more complicated to implement in practice \n",
    "# than simple median imputation, it is very easy to explore in caret using the preProcess argument to train(). \n",
    "# You can simply use preProcess = \"knnImpute\" to change the method of imputation used prior to model fitting.\n",
    "# \n",
    "# Instructions\n",
    "# \n",
    "# breast_cancer_x and breast_cancer_y are loaded in your workspace.\n",
    "# \n",
    "# Use the train() function to fit a glm model called knn_model to the breast cancer dataset.\n",
    "# Use KNN imputation to handle missing values."
   ]
  },
  {
   "cell_type": "code",
   "execution_count": 81,
   "metadata": {},
   "outputs": [],
   "source": [
    "#install.packages(\"RANN\")"
   ]
  },
  {
   "cell_type": "code",
   "execution_count": 82,
   "metadata": {},
   "outputs": [],
   "source": [
    "library(RANN)"
   ]
  },
  {
   "cell_type": "code",
   "execution_count": 83,
   "metadata": {
    "scrolled": true
   },
   "outputs": [
    {
     "data": {
      "text/plain": [
       "Generalized Linear Model \n",
       "\n",
       "699 samples\n",
       "  9 predictor\n",
       "  2 classes: 'benign', 'malignant' \n",
       "\n",
       "Pre-processing: nearest neighbor imputation (9), centered (9), scaled (9) \n",
       "Resampling: Cross-Validated (10 fold) \n",
       "Summary of sample sizes: 629, 630, 629, 628, 629, 630, ... \n",
       "Resampling results:\n",
       "\n",
       "  ROC        Sens       Spec \n",
       "  0.9924569  0.9714493  0.942\n"
      ]
     },
     "metadata": {},
     "output_type": "display_data"
    }
   ],
   "source": [
    "# Apply KNN imputation\n",
    "knn_model <- train(\n",
    "x = breast_cancer_x, y = breast_cancer_y,\n",
    "method = \"glm\",\n",
    "trControl = myControl,\n",
    "preProcess = \"knnImpute\"\n",
    ")\n",
    "\n",
    "# Print knn_model to console\n",
    "knn_model"
   ]
  },
  {
   "cell_type": "code",
   "execution_count": 144,
   "metadata": {},
   "outputs": [],
   "source": [
    "#install.packages(\"BiocManager\")"
   ]
  },
  {
   "cell_type": "code",
   "execution_count": 145,
   "metadata": {
    "scrolled": false
   },
   "outputs": [],
   "source": [
    "# BiocManager::install(\"clusterProfiler\")#, version = \"3.8\")"
   ]
  },
  {
   "cell_type": "code",
   "execution_count": 146,
   "metadata": {},
   "outputs": [],
   "source": [
    "#library(clusterProfiler)"
   ]
  },
  {
   "cell_type": "code",
   "execution_count": 143,
   "metadata": {
    "scrolled": true
   },
   "outputs": [],
   "source": [
    "# dotplot(resamples, metric = \"ROC\")\n",
    "# \n",
    "# median_model <- model\n",
    "# knn_model <- model2\n",
    "# ANS <- resamples(list(median_model, knn_model))\n",
    "# dotplot(ANS, metric = \"ROC\")"
   ]
  },
  {
   "cell_type": "code",
   "execution_count": 147,
   "metadata": {},
   "outputs": [
    {
     "data": {
      "image/png": "[encoded data removed]"
     },
     "metadata": {},
     "output_type": "display_data"
    }
   ],
   "source": [
    "display_png(file=\"knnvsmedianmodel.png\") "
   ]
  },
  {
   "cell_type": "code",
   "execution_count": 150,
   "metadata": {},
   "outputs": [],
   "source": [
    "# Combining preprocessing methods\n",
    "# \n",
    "# The preProcess argument to train() doesn't just limit you to imputing missing values. \n",
    "# It also includes a wide variety of other preProcess techniques to make your life as a data scientist much easier. \n",
    "# You can read a full list of them by typing ?preProcess and reading the help page for this function.\n",
    "# \n",
    "# One set of preprocessing functions that is particularly useful \n",
    "# for fitting regression models is standardization: centering and scaling. \n",
    "# You first center by subtracting the mean of each column from each value in that column, \n",
    "# then you scale by dividing by the standard deviation.\n",
    "# \n",
    "# Standardization transforms your data such that for each column, \n",
    "# the mean is 0 and the standard deviation is 1. \n",
    "# This makes it easier for regression models to find a good solution.\n",
    "# \n",
    "# Instructions 1/2\n",
    "# 1\n",
    "# breast_cancer_x and breast_cancer_y are loaded in your workspace. \n",
    "# Fit a logistic regression model using median imputation called model \n",
    "# to the breast cancer data, then print it to the console."
   ]
  },
  {
   "cell_type": "code",
   "execution_count": 151,
   "metadata": {
    "scrolled": true
   },
   "outputs": [
    {
     "data": {
      "text/plain": [
       "Generalized Linear Model \n",
       "\n",
       "699 samples\n",
       "  9 predictor\n",
       "  2 classes: 'benign', 'malignant' \n",
       "\n",
       "Pre-processing: median imputation (9) \n",
       "Resampling: Cross-Validated (10 fold) \n",
       "Summary of sample sizes: 629, 630, 629, 629, 629, 629, ... \n",
       "Resampling results:\n",
       "\n",
       "  ROC        Sens       Spec     \n",
       "  0.9902206  0.9716908  0.9376667\n"
      ]
     },
     "metadata": {},
     "output_type": "display_data"
    }
   ],
   "source": [
    "# Fit glm with median imputation: model1\n",
    "model1 <- train(\n",
    "  x = breast_cancer_x, y = breast_cancer_y,\n",
    "  method = \"glm\",\n",
    "  trControl = myControl,\n",
    "  preProcess =  c(\"medianImpute\")\n",
    ")\n",
    "\n",
    "# Print model\n",
    "model1"
   ]
  },
  {
   "cell_type": "code",
   "execution_count": 152,
   "metadata": {},
   "outputs": [
    {
     "data": {
      "text/plain": [
       "Generalized Linear Model \n",
       "\n",
       "699 samples\n",
       "  9 predictor\n",
       "  2 classes: 'benign', 'malignant' \n",
       "\n",
       "Pre-processing: median imputation (9), centered (9), scaled (9) \n",
       "Resampling: Cross-Validated (10 fold) \n",
       "Summary of sample sizes: 629, 629, 630, 629, 629, 629, ... \n",
       "Resampling results:\n",
       "\n",
       "  ROC        Sens       Spec     \n",
       "  0.9928341  0.9695652  0.9461667\n"
      ]
     },
     "metadata": {},
     "output_type": "display_data"
    }
   ],
   "source": [
    "# Fit glm with median imputation and standardization: model2\n",
    "model2 <- train(\n",
    "x = breast_cancer_x, y = breast_cancer_y,\n",
    "method = \"glm\",\n",
    "trControl = myControl,\n",
    "preProcess = c(\"medianImpute\", \"center\", \"scale\")\n",
    ")\n",
    "\n",
    "# Print model2\n",
    "model2"
   ]
  },
  {
   "cell_type": "code",
   "execution_count": 153,
   "metadata": {},
   "outputs": [],
   "source": [
    "# Remove near zero variance predictors\n",
    "# \n",
    "# As you saw in the video, for the next set of exercises, you'll be using the blood-brain dataset. \n",
    "# This is a biochemical dataset in which the task is to predict \n",
    "# the following value for a set of biochemical compounds:\n",
    "# \n",
    "# log((concentration of compound in brain) /\n",
    "#       (concentration of compound in blood))\n",
    "# This gives a quantitative metric of the compound's ability to cross the blood-brain barrier, \n",
    "# and is useful for understanding the biological properties of that barrier.\n",
    "# \n",
    "# One interesting aspect of this dataset is that it contains many variables \n",
    "# and many of these variables have extemely low variances. \n",
    "# This means that there is very little information in these variables because \n",
    "# they mostly consist of a single value (e.g. zero).\n",
    "# \n",
    "# Fortunately, caret contains a utility function called nearZeroVar() \n",
    "# for removing such variables to save time during modeling.\n",
    "# \n",
    "# nearZeroVar() takes in data x, then looks at the ratio of the most common value \n",
    "# to the second most common value, freqCut, and the percentage of distinct values \n",
    "# out of the number of total samples, uniqueCut. \n",
    "# By default, caret uses freqCut = 19 and uniqueCut = 10, which is fairly conservative. \n",
    "# I like to be a little more aggressive and use freqCut = 2 and uniqueCut = 20 when calling nearZeroVar().\n",
    "# \n",
    "# Instructions\n",
    "# \n",
    "# bloodbrain_x and bloodbrain_y are loaded in your workspace.\n",
    "# \n",
    "# Identify the near zero variance predictors by running nearZeroVar() on the blood-brain dataset. \n",
    "# Store the result as an object called remove_cols. Use freqCut = 2 and uniqueCut = 20 in the call to nearZeroVar().\n",
    "# Use names() to create a vector containing all column names of bloodbrain_x. Call this all_cols.\n",
    "# Make a new data frame called bloodbrain_x_small with the near-zero variance variables removed. \n",
    "# Use setdiff() to isolate the column names that you wish to keep (i.e. that you don't want to remove.)"
   ]
  },
  {
   "cell_type": "code",
   "execution_count": 154,
   "metadata": {},
   "outputs": [],
   "source": [
    "load('BloodBrain.RData')"
   ]
  },
  {
   "cell_type": "code",
   "execution_count": 155,
   "metadata": {},
   "outputs": [],
   "source": [
    "# Identify near zero variance predictors: remove_cols\n",
    "remove_cols <- nearZeroVar(bloodbrain_x, names = TRUE, \n",
    "                           freqCut = 2, uniqueCut = 20)\n",
    "# Get all column names from bloodbrain_x: all_cols\n",
    "all_cols<-names(bloodbrain_x)\n",
    "# Remove from data: bloodbrain_x_small\n",
    "bloodbrain_x_small <- bloodbrain_x[ , setdiff(all_cols, remove_cols)]"
   ]
  },
  {
   "cell_type": "code",
   "execution_count": 160,
   "metadata": {},
   "outputs": [],
   "source": [
    "# Fit model on reduced blood-brain data\n",
    "# \n",
    "# Now that you've reduced your dataset, you can fit a glm model to it using the train() function. \n",
    "# This model will run faster than using the full dataset and will yield very similar predictive accuracy.\n",
    "# \n",
    "# Furthermore, zero variance variables can cause problems with cross-validation \n",
    "# (e.g. if one fold ends up with only a single unique value for that variable), \n",
    "# so removing them prior to modeling means you are less likely to get errors during the fitting process.\n",
    "# \n",
    "# Instructions\n",
    "# bloodbrain_x, bloodbrain_y, remove, and bloodbrain_x_small are loaded in your workspace.\n",
    "# \n",
    "# Fit a glm model using the train() function and the reduced blood-brain dataset you created in the previous exercise.\n",
    "# Print the result to the console."
   ]
  },
  {
   "cell_type": "code",
   "execution_count": 161,
   "metadata": {},
   "outputs": [
    {
     "data": {
      "text/plain": [
       "Generalized Linear Model \n",
       "\n",
       "208 samples\n",
       "112 predictors\n",
       "\n",
       "No pre-processing\n",
       "Resampling: Bootstrapped (25 reps) \n",
       "Summary of sample sizes: 208, 208, 208, 208, 208, 208, ... \n",
       "Resampling results:\n",
       "\n",
       "  RMSE      Rsquared    MAE     \n",
       "  1.551454  0.09942917  1.027512\n"
      ]
     },
     "metadata": {},
     "output_type": "display_data"
    }
   ],
   "source": [
    "# Fit model on reduced data: model\n",
    "model <- train(x = bloodbrain_x_small, y = bloodbrain_y, method = \"glm\")\n",
    "\n",
    "# Print model to console\n",
    "model"
   ]
  },
  {
   "cell_type": "code",
   "execution_count": 162,
   "metadata": {},
   "outputs": [],
   "source": [
    "# Using PCA as an alternative to nearZeroVar()\n",
    "# \n",
    "# An alternative to removing low-variance predictors is to run PCA on your dataset. \n",
    "# This is sometimes preferable because it does not throw out all of your data: \n",
    "# many different low variance predictors may end up combined into one high variance PCA variable, \n",
    "# which might have a positive impact on your model's accuracy.\n",
    "# \n",
    "# This is an especially good trick for linear models: \n",
    "# the pca option in the preProcess argument will center and scale your data, \n",
    "# combine low variance variables, and ensure that all of your predictors are orthogonal. \n",
    "# This creates an ideal dataset for linear regression modeling, and can often improve the accuracy of your models.\n",
    "# \n",
    "# Instructions\n",
    "# \n",
    "# bloodbrain_x and bloodbrain_y are loaded in your workspace.\n",
    "# \n",
    "# Fit a glm model to the full blood-brain dataset using the \"pca\" option to preProcess.\n",
    "# Print the model to the console and inspect the result. "
   ]
  },
  {
   "cell_type": "code",
   "execution_count": 163,
   "metadata": {},
   "outputs": [
    {
     "data": {
      "text/plain": [
       "Generalized Linear Model \n",
       "\n",
       "208 samples\n",
       "132 predictors\n",
       "\n",
       "Pre-processing: principal component signal extraction (132), centered\n",
       " (132), scaled (132) \n",
       "Resampling: Bootstrapped (25 reps) \n",
       "Summary of sample sizes: 208, 208, 208, 208, 208, 208, ... \n",
       "Resampling results:\n",
       "\n",
       "  RMSE      Rsquared   MAE      \n",
       "  0.612431  0.4055253  0.4613599\n"
      ]
     },
     "metadata": {},
     "output_type": "display_data"
    }
   ],
   "source": [
    "# Fit glm model using PCA: model\n",
    "model <- train(\n",
    "  x = bloodbrain_x, y = bloodbrain_y,\n",
    "  method = \"glm\", preProcess = \"pca\"\n",
    ")\n",
    "# Print model to console\n",
    "model"
   ]
  },
  {
   "cell_type": "markdown",
   "metadata": {},
   "source": [
    "# 5. Selecting models: a case study in churn prediction\n",
    "\n",
    "In the final chapter of this course, you'll learn how to use resamples() to compare multiple models and select (or ensemble) the best one(s)."
   ]
  },
  {
   "cell_type": "code",
   "execution_count": 164,
   "metadata": {},
   "outputs": [],
   "source": [
    "# Make custom train/test indices\n",
    "# \n",
    "# As you saw in the video, for this chapter you will focus on a real-world dataset \n",
    "# that brings together all of the concepts discussed in the previous chapters.\n",
    "# \n",
    "# The churn dataset contains data on a variety of telecom customers and \n",
    "# the modeling challenge is to predict which customers will cancel their service (or churn).\n",
    "# \n",
    "# In this chapter, you will be exploring two different types of predictive models: \n",
    "# glmnet and rf, so the first order of business is to create a reusable trainControl object \n",
    "# you can use to reliably compare them.\n",
    "# \n",
    "# Instructions\n",
    "# \n",
    "# churn_x and churn_y are loaded in your workspace.\n",
    "# \n",
    "# Use createFolds() to create 5 CV folds on churn_y, your target variable for this exercise.\n",
    "# Pass them to trainControl() to create a reusable trainControl for comparing models."
   ]
  },
  {
   "cell_type": "code",
   "execution_count": 165,
   "metadata": {},
   "outputs": [],
   "source": [
    "load('Churn.RData')"
   ]
  },
  {
   "cell_type": "code",
   "execution_count": 166,
   "metadata": {},
   "outputs": [],
   "source": [
    "# Create custom indices: myFolds\n",
    "myFolds <- createFolds(churn_y, k = 5)\n",
    "# Create reusable trainControl object: myControl\n",
    "myControl <- trainControl(\n",
    "  summaryFunction = twoClassSummary,\n",
    "  classProbs = TRUE, # IMPORTANT!\n",
    "  verboseIter = TRUE,\n",
    "  savePredictions = TRUE,\n",
    "  index = myFolds\n",
    ")"
   ]
  },
  {
   "cell_type": "code",
   "execution_count": 167,
   "metadata": {},
   "outputs": [],
   "source": [
    "# Fit the baseline model\n",
    "# \n",
    "# Now that you have a reusable trainControl object called myControl, \n",
    "# you can start fitting different predictive models to your churn dataset and evaluate their predictive accuracy.\n",
    "# \n",
    "# You'll start with one of my favorite models, glmnet, \n",
    "# which penalizes linear and logistic regression models on \n",
    "# the size and number of coefficients to help prevent overfitting.\n",
    "# \n",
    "# Instructions\n",
    "# Fit a glmnet model to the churn dataset called model_glmnet. \n",
    "# Make sure to use myControl, which you created in the first exercise and \n",
    "# is available in your workspace, as the trainControl object."
   ]
  },
  {
   "cell_type": "code",
   "execution_count": 168,
   "metadata": {},
   "outputs": [
    {
     "name": "stdout",
     "output_type": "stream",
     "text": [
      "+ Fold1: alpha=0.10, lambda=0.01821 \n",
      "- Fold1: alpha=0.10, lambda=0.01821 \n",
      "+ Fold1: alpha=0.55, lambda=0.01821 \n",
      "- Fold1: alpha=0.55, lambda=0.01821 \n",
      "+ Fold1: alpha=1.00, lambda=0.01821 \n",
      "- Fold1: alpha=1.00, lambda=0.01821 \n",
      "+ Fold2: alpha=0.10, lambda=0.01821 \n",
      "- Fold2: alpha=0.10, lambda=0.01821 \n",
      "+ Fold2: alpha=0.55, lambda=0.01821 \n",
      "- Fold2: alpha=0.55, lambda=0.01821 \n",
      "+ Fold2: alpha=1.00, lambda=0.01821 \n",
      "- Fold2: alpha=1.00, lambda=0.01821 \n",
      "+ Fold3: alpha=0.10, lambda=0.01821 \n",
      "- Fold3: alpha=0.10, lambda=0.01821 \n",
      "+ Fold3: alpha=0.55, lambda=0.01821 \n",
      "- Fold3: alpha=0.55, lambda=0.01821 \n",
      "+ Fold3: alpha=1.00, lambda=0.01821 \n",
      "- Fold3: alpha=1.00, lambda=0.01821 \n",
      "+ Fold4: alpha=0.10, lambda=0.01821 \n",
      "- Fold4: alpha=0.10, lambda=0.01821 \n",
      "+ Fold4: alpha=0.55, lambda=0.01821 \n",
      "- Fold4: alpha=0.55, lambda=0.01821 \n",
      "+ Fold4: alpha=1.00, lambda=0.01821 \n",
      "- Fold4: alpha=1.00, lambda=0.01821 \n",
      "+ Fold5: alpha=0.10, lambda=0.01821 \n",
      "- Fold5: alpha=0.10, lambda=0.01821 \n",
      "+ Fold5: alpha=0.55, lambda=0.01821 \n",
      "- Fold5: alpha=0.55, lambda=0.01821 \n",
      "+ Fold5: alpha=1.00, lambda=0.01821 \n",
      "- Fold5: alpha=1.00, lambda=0.01821 \n",
      "Aggregating results\n",
      "Selecting tuning parameters\n",
      "Fitting alpha = 0.55, lambda = 0.00182 on full training set\n"
     ]
    }
   ],
   "source": [
    "# Fit glmnet model: model_glmnet\n",
    "model_glmnet <- train(\n",
    "  x = churn_x, y = churn_y,\n",
    "  metric = \"ROC\",\n",
    "  method = \"glmnet\",\n",
    "  trControl = myControl\n",
    ")"
   ]
  },
  {
   "cell_type": "code",
   "execution_count": 171,
   "metadata": {},
   "outputs": [],
   "source": [
    "# Random forest with custom trainControl\n",
    "# \n",
    "# Another one of my favorite models is the random forest, \n",
    "# which combines an ensemble of non-linear decision trees into \n",
    "# a highly flexible (and usually quite accurate) model.\n",
    "# \n",
    "# Rather than using the classic randomForest package, \n",
    "# you'll be using the ranger package, which is a re-implementation of randomForest \n",
    "# that produces almost the exact same results, but is faster, more stable, and uses less memory. \n",
    "# I highly recommend it as a starting point for random forest modeling in R.\n",
    "# \n",
    "# Instructions\n",
    "# \n",
    "# churn_x and churn_y are loaded in your workspace.\n",
    "# \n",
    "# Fit a random forest model to the churn dataset. \n",
    "# Be sure to use myControl as the trainControl like you've done before and implement the \"ranger\" method."
   ]
  },
  {
   "cell_type": "code",
   "execution_count": 172,
   "metadata": {},
   "outputs": [
    {
     "name": "stdout",
     "output_type": "stream",
     "text": [
      "+ Fold1: mtry= 2, min.node.size=1, splitrule=gini \n",
      "- Fold1: mtry= 2, min.node.size=1, splitrule=gini \n",
      "+ Fold1: mtry=36, min.node.size=1, splitrule=gini \n",
      "- Fold1: mtry=36, min.node.size=1, splitrule=gini \n",
      "+ Fold1: mtry=70, min.node.size=1, splitrule=gini \n",
      "- Fold1: mtry=70, min.node.size=1, splitrule=gini \n",
      "+ Fold1: mtry= 2, min.node.size=1, splitrule=extratrees \n",
      "- Fold1: mtry= 2, min.node.size=1, splitrule=extratrees \n",
      "+ Fold1: mtry=36, min.node.size=1, splitrule=extratrees \n",
      "- Fold1: mtry=36, min.node.size=1, splitrule=extratrees \n",
      "+ Fold1: mtry=70, min.node.size=1, splitrule=extratrees \n",
      "- Fold1: mtry=70, min.node.size=1, splitrule=extratrees \n",
      "+ Fold2: mtry= 2, min.node.size=1, splitrule=gini \n",
      "- Fold2: mtry= 2, min.node.size=1, splitrule=gini \n",
      "+ Fold2: mtry=36, min.node.size=1, splitrule=gini \n",
      "- Fold2: mtry=36, min.node.size=1, splitrule=gini \n",
      "+ Fold2: mtry=70, min.node.size=1, splitrule=gini \n",
      "- Fold2: mtry=70, min.node.size=1, splitrule=gini \n",
      "+ Fold2: mtry= 2, min.node.size=1, splitrule=extratrees \n",
      "- Fold2: mtry= 2, min.node.size=1, splitrule=extratrees \n",
      "+ Fold2: mtry=36, min.node.size=1, splitrule=extratrees \n",
      "- Fold2: mtry=36, min.node.size=1, splitrule=extratrees \n",
      "+ Fold2: mtry=70, min.node.size=1, splitrule=extratrees \n",
      "- Fold2: mtry=70, min.node.size=1, splitrule=extratrees \n",
      "+ Fold3: mtry= 2, min.node.size=1, splitrule=gini \n",
      "- Fold3: mtry= 2, min.node.size=1, splitrule=gini \n",
      "+ Fold3: mtry=36, min.node.size=1, splitrule=gini \n",
      "- Fold3: mtry=36, min.node.size=1, splitrule=gini \n",
      "+ Fold3: mtry=70, min.node.size=1, splitrule=gini \n",
      "- Fold3: mtry=70, min.node.size=1, splitrule=gini \n",
      "+ Fold3: mtry= 2, min.node.size=1, splitrule=extratrees \n",
      "- Fold3: mtry= 2, min.node.size=1, splitrule=extratrees \n",
      "+ Fold3: mtry=36, min.node.size=1, splitrule=extratrees \n",
      "- Fold3: mtry=36, min.node.size=1, splitrule=extratrees \n",
      "+ Fold3: mtry=70, min.node.size=1, splitrule=extratrees \n",
      "- Fold3: mtry=70, min.node.size=1, splitrule=extratrees \n",
      "+ Fold4: mtry= 2, min.node.size=1, splitrule=gini \n",
      "- Fold4: mtry= 2, min.node.size=1, splitrule=gini \n",
      "+ Fold4: mtry=36, min.node.size=1, splitrule=gini \n",
      "- Fold4: mtry=36, min.node.size=1, splitrule=gini \n",
      "+ Fold4: mtry=70, min.node.size=1, splitrule=gini \n",
      "- Fold4: mtry=70, min.node.size=1, splitrule=gini \n",
      "+ Fold4: mtry= 2, min.node.size=1, splitrule=extratrees \n",
      "- Fold4: mtry= 2, min.node.size=1, splitrule=extratrees \n",
      "+ Fold4: mtry=36, min.node.size=1, splitrule=extratrees \n",
      "- Fold4: mtry=36, min.node.size=1, splitrule=extratrees \n",
      "+ Fold4: mtry=70, min.node.size=1, splitrule=extratrees \n",
      "- Fold4: mtry=70, min.node.size=1, splitrule=extratrees \n",
      "+ Fold5: mtry= 2, min.node.size=1, splitrule=gini \n",
      "- Fold5: mtry= 2, min.node.size=1, splitrule=gini \n",
      "+ Fold5: mtry=36, min.node.size=1, splitrule=gini \n",
      "- Fold5: mtry=36, min.node.size=1, splitrule=gini \n",
      "+ Fold5: mtry=70, min.node.size=1, splitrule=gini \n",
      "- Fold5: mtry=70, min.node.size=1, splitrule=gini \n",
      "+ Fold5: mtry= 2, min.node.size=1, splitrule=extratrees \n",
      "- Fold5: mtry= 2, min.node.size=1, splitrule=extratrees \n",
      "+ Fold5: mtry=36, min.node.size=1, splitrule=extratrees \n",
      "- Fold5: mtry=36, min.node.size=1, splitrule=extratrees \n",
      "+ Fold5: mtry=70, min.node.size=1, splitrule=extratrees \n",
      "- Fold5: mtry=70, min.node.size=1, splitrule=extratrees \n",
      "Aggregating results\n",
      "Selecting tuning parameters\n",
      "Fitting mtry = 36, splitrule = extratrees, min.node.size = 1 on full training set\n"
     ]
    }
   ],
   "source": [
    "# Fit random forest: model_rf\n",
    "model_rf <- train(\n",
    "  x = churn_x, y = churn_y,\n",
    "  metric = \"ROC\",\n",
    "  method = \"ranger\",\n",
    "  trControl = myControl\n",
    ")"
   ]
  },
  {
   "cell_type": "code",
   "execution_count": 169,
   "metadata": {},
   "outputs": [],
   "source": [
    "# Create a resamples object\n",
    "# \n",
    "# Now that you have fit two models to the churn dataset, \n",
    "# it's time to compare their out-of-sample predictions \n",
    "# and choose which one is the best model for your dataset.\n",
    "# \n",
    "# You can compare models in caret using the resamples() function, \n",
    "# provided they have the same training data and use \n",
    "# the same trainControl object with preset cross-validation folds. resamples() \n",
    "# takes as input a list of models and can be used to compare dozens of models at once (though in this case you are only comparing two models).\n",
    "# \n",
    "# Instructions\n",
    "# \n",
    "# model_glmnet and model_rf are loaded in your workspace.\n",
    "# \n",
    "# Create a list() containing the glmnet model as item1 and the ranger model as item2.\n",
    "# Pass this list to the resamples() function and save the resulting object as resamples.\n",
    "# Summarize the results by calling summary() on resamples."
   ]
  },
  {
   "cell_type": "code",
   "execution_count": 173,
   "metadata": {},
   "outputs": [
    {
     "data": {
      "text/plain": [
       "\n",
       "Call:\n",
       "summary.resamples(object = resamples)\n",
       "\n",
       "Models: item1, item2 \n",
       "Number of resamples: 5 \n",
       "\n",
       "ROC \n",
       "           Min.   1st Qu.    Median      Mean   3rd Qu.      Max. NA's\n",
       "item1 0.4503448 0.5506189 0.5749451 0.5665861 0.6197802 0.6372414    0\n",
       "item2 0.5721839 0.6953846 0.7123077 0.6862149 0.7143015 0.7368966    0\n",
       "\n",
       "Sens \n",
       "           Min.   1st Qu.    Median      Mean   3rd Qu.      Max. NA's\n",
       "item1 0.8793103 0.9022989 0.9200000 0.9254187 0.9597701 0.9657143    0\n",
       "item2 0.9655172 0.9942529 0.9942857 0.9908112 1.0000000 1.0000000    0\n",
       "\n",
       "Spec \n",
       "            Min.    1st Qu.    Median      Mean 3rd Qu. Max. NA's\n",
       "item1 0.07692308 0.07692308 0.1153846 0.1178462    0.12 0.20    0\n",
       "item2 0.00000000 0.00000000 0.0000000 0.0160000    0.00 0.08    0\n"
      ]
     },
     "metadata": {},
     "output_type": "display_data"
    }
   ],
   "source": [
    "# Create model_list\n",
    "model_list <- list(item1 = model_glmnet, item2 = model_rf)\n",
    "# Pass model_list to resamples(): resamples\n",
    "resamples<-resamples(model_list)\n",
    "# Summarize the results\n",
    "summary(resamples)"
   ]
  },
  {
   "cell_type": "code",
   "execution_count": 174,
   "metadata": {},
   "outputs": [],
   "source": [
    "# Create a box-and-whisker plot\n",
    "# \n",
    "# caret provides a variety of methods to use for comparing models. \n",
    "# All of these methods are based on the resamples() function. \n",
    "# My favorite is the box-and-whisker plot, which allows you to compare \n",
    "# the distribution of predictive accuracy (in this case AUC) for the two models.\n",
    "# \n",
    "# In general, you want the model with the higher median AUC, \n",
    "# as well as a smaller range between min and max AUC.\n",
    "# \n",
    "# You can make this plot using the bwplot() function, \n",
    "# which makes a box and whisker plot of the model's out of sample scores. \n",
    "# Box and whisker plots show the median of each distribution as a line and \n",
    "# the interquartile range of each distribution as a box around the median line. \n",
    "# You can pass the metric = \"ROC\" argument to the bwplot() function to show a plot of \n",
    "# the model's out-of-sample ROC scores and choose the model with the highest median ROC.\n",
    "# \n",
    "# If you do not specify a metric to plot, bwplot() will automatically plot 3 of them.\n",
    "# \n",
    "# Instructions\n",
    "# \n",
    "# Pass the resamples object to the bwplot() function to make a box-and-whisker plot. \n",
    "# Look at the resulting plot and note which model has the higher median ROC statistic. \n",
    "# Be sure to specify which metric you want to plot."
   ]
  },
  {
   "cell_type": "code",
   "execution_count": 175,
   "metadata": {},
   "outputs": [
    {
     "data": {
      "image/png": "[encoded data removed]",
      "text/plain": [
       "plot without title"
      ]
     },
     "metadata": {
      "image/png": {
       "height": 420,
       "width": 420
      },
      "text/plain": {
       "height": 420,
       "width": 420
      }
     },
     "output_type": "display_data"
    }
   ],
   "source": [
    "# Create bwplot\n",
    "bwplot(resamples, metric = \"ROC\")"
   ]
  },
  {
   "cell_type": "code",
   "execution_count": 177,
   "metadata": {},
   "outputs": [],
   "source": [
    "# Create a scatterplot\n",
    "# \n",
    "# Another useful plot for comparing models is the scatterplot, \n",
    "# also known as the xy-plot. This plot shows you how similar \n",
    "# the two models' performances are on different folds.\n",
    "# \n",
    "# It's particularly useful for identifying if one model is consistently better than \n",
    "# the other across all folds, or if there are situations when \n",
    "# the inferior model produces better predictions on a particular subset of the data.\n",
    "# \n",
    "# Instructions\n",
    "# \n",
    "# Pass the resamples object to the xyplot() function. \n",
    "# Look at the resulting plot and note how similar \n",
    "# the two models' predictions are (or are not) on the different folds. \n",
    "# Be sure to specify which metric you want to plot."
   ]
  },
  {
   "cell_type": "code",
   "execution_count": 178,
   "metadata": {
    "scrolled": true
   },
   "outputs": [
    {
     "data": {
      "image/png": "[encoded data removed]",
      "text/plain": [
       "plot without title"
      ]
     },
     "metadata": {
      "image/png": {
       "height": 420,
       "width": 420
      },
      "text/plain": {
       "height": 420,
       "width": 420
      }
     },
     "output_type": "display_data"
    }
   ],
   "source": [
    "# Create xyplot\n",
    "xyplot(resamples,metric=\"ROC\")"
   ]
  },
  {
   "cell_type": "code",
   "execution_count": null,
   "metadata": {},
   "outputs": [],
   "source": [
    "Ensembling models\n",
    "That concludes the course! As a teaser for a future course on making ensembles of caret models, I'll show you how to fit a stacked ensemble of models using the caretEnsemble package.\n",
    "\n",
    "caretEnsemble provides the caretList() function for creating multiple caret models at once on the same dataset, using the same resampling folds. You can also create your own lists of caret models.\n",
    "\n",
    "In this exercise, I've made a caretList for you, containing the glmnet and ranger models you fit on the churn dataset. Use the caretStack() function to make a stack of caret models, with the two sub-models (glmnet and ranger) feeding into another (hopefully more accurate!) caret model.\n",
    "\n",
    "Instructions\n",
    "100 XP\n",
    "Instructions\n",
    "100 XP\n",
    "Call the caretStack() function with two arguments, model_list and method = \"glm\", to ensemble the two models using a logistic regression. Store the result as stack.\n",
    "Summarize the resulting model with the summary() function."
   ]
  },
  {
   "cell_type": "code",
   "execution_count": 180,
   "metadata": {},
   "outputs": [],
   "source": [
    "# install.packages('caretEnsemble')"
   ]
  },
  {
   "cell_type": "code",
   "execution_count": 182,
   "metadata": {
    "scrolled": false
   },
   "outputs": [
    {
     "name": "stdout",
     "output_type": "stream",
     "text": [
      "+ Fold1: alpha=0.10, lambda=0.01821 \n",
      "- Fold1: alpha=0.10, lambda=0.01821 \n",
      "+ Fold1: alpha=0.55, lambda=0.01821 \n",
      "- Fold1: alpha=0.55, lambda=0.01821 \n",
      "+ Fold1: alpha=1.00, lambda=0.01821 \n",
      "- Fold1: alpha=1.00, lambda=0.01821 \n",
      "+ Fold2: alpha=0.10, lambda=0.01821 \n",
      "- Fold2: alpha=0.10, lambda=0.01821 \n",
      "+ Fold2: alpha=0.55, lambda=0.01821 \n",
      "- Fold2: alpha=0.55, lambda=0.01821 \n",
      "+ Fold2: alpha=1.00, lambda=0.01821 \n",
      "- Fold2: alpha=1.00, lambda=0.01821 \n",
      "+ Fold3: alpha=0.10, lambda=0.01821 \n",
      "- Fold3: alpha=0.10, lambda=0.01821 \n",
      "+ Fold3: alpha=0.55, lambda=0.01821 \n",
      "- Fold3: alpha=0.55, lambda=0.01821 \n",
      "+ Fold3: alpha=1.00, lambda=0.01821 \n",
      "- Fold3: alpha=1.00, lambda=0.01821 \n",
      "+ Fold4: alpha=0.10, lambda=0.01821 \n",
      "- Fold4: alpha=0.10, lambda=0.01821 \n",
      "+ Fold4: alpha=0.55, lambda=0.01821 \n",
      "- Fold4: alpha=0.55, lambda=0.01821 \n",
      "+ Fold4: alpha=1.00, lambda=0.01821 \n",
      "- Fold4: alpha=1.00, lambda=0.01821 \n",
      "+ Fold5: alpha=0.10, lambda=0.01821 \n",
      "- Fold5: alpha=0.10, lambda=0.01821 \n",
      "+ Fold5: alpha=0.55, lambda=0.01821 \n",
      "- Fold5: alpha=0.55, lambda=0.01821 \n",
      "+ Fold5: alpha=1.00, lambda=0.01821 \n",
      "- Fold5: alpha=1.00, lambda=0.01821 \n",
      "Aggregating results\n",
      "Selecting tuning parameters\n",
      "Fitting alpha = 0.55, lambda = 0.00182 on full training set\n",
      "+ Fold1: mtry= 2, min.node.size=1, splitrule=gini \n",
      "- Fold1: mtry= 2, min.node.size=1, splitrule=gini \n",
      "+ Fold1: mtry=36, min.node.size=1, splitrule=gini \n",
      "- Fold1: mtry=36, min.node.size=1, splitrule=gini \n",
      "+ Fold1: mtry=70, min.node.size=1, splitrule=gini \n",
      "- Fold1: mtry=70, min.node.size=1, splitrule=gini \n",
      "+ Fold1: mtry= 2, min.node.size=1, splitrule=extratrees \n",
      "- Fold1: mtry= 2, min.node.size=1, splitrule=extratrees \n",
      "+ Fold1: mtry=36, min.node.size=1, splitrule=extratrees \n",
      "- Fold1: mtry=36, min.node.size=1, splitrule=extratrees \n",
      "+ Fold1: mtry=70, min.node.size=1, splitrule=extratrees \n",
      "- Fold1: mtry=70, min.node.size=1, splitrule=extratrees \n",
      "+ Fold2: mtry= 2, min.node.size=1, splitrule=gini \n",
      "- Fold2: mtry= 2, min.node.size=1, splitrule=gini \n",
      "+ Fold2: mtry=36, min.node.size=1, splitrule=gini \n",
      "- Fold2: mtry=36, min.node.size=1, splitrule=gini \n",
      "+ Fold2: mtry=70, min.node.size=1, splitrule=gini \n",
      "- Fold2: mtry=70, min.node.size=1, splitrule=gini \n",
      "+ Fold2: mtry= 2, min.node.size=1, splitrule=extratrees \n",
      "- Fold2: mtry= 2, min.node.size=1, splitrule=extratrees \n",
      "+ Fold2: mtry=36, min.node.size=1, splitrule=extratrees \n",
      "- Fold2: mtry=36, min.node.size=1, splitrule=extratrees \n",
      "+ Fold2: mtry=70, min.node.size=1, splitrule=extratrees \n",
      "- Fold2: mtry=70, min.node.size=1, splitrule=extratrees \n",
      "+ Fold3: mtry= 2, min.node.size=1, splitrule=gini \n",
      "- Fold3: mtry= 2, min.node.size=1, splitrule=gini \n",
      "+ Fold3: mtry=36, min.node.size=1, splitrule=gini \n",
      "- Fold3: mtry=36, min.node.size=1, splitrule=gini \n",
      "+ Fold3: mtry=70, min.node.size=1, splitrule=gini \n",
      "- Fold3: mtry=70, min.node.size=1, splitrule=gini \n",
      "+ Fold3: mtry= 2, min.node.size=1, splitrule=extratrees \n",
      "- Fold3: mtry= 2, min.node.size=1, splitrule=extratrees \n",
      "+ Fold3: mtry=36, min.node.size=1, splitrule=extratrees \n",
      "- Fold3: mtry=36, min.node.size=1, splitrule=extratrees \n",
      "+ Fold3: mtry=70, min.node.size=1, splitrule=extratrees \n",
      "- Fold3: mtry=70, min.node.size=1, splitrule=extratrees \n",
      "+ Fold4: mtry= 2, min.node.size=1, splitrule=gini \n",
      "- Fold4: mtry= 2, min.node.size=1, splitrule=gini \n",
      "+ Fold4: mtry=36, min.node.size=1, splitrule=gini \n",
      "- Fold4: mtry=36, min.node.size=1, splitrule=gini \n",
      "+ Fold4: mtry=70, min.node.size=1, splitrule=gini \n",
      "- Fold4: mtry=70, min.node.size=1, splitrule=gini \n",
      "+ Fold4: mtry= 2, min.node.size=1, splitrule=extratrees \n",
      "- Fold4: mtry= 2, min.node.size=1, splitrule=extratrees \n",
      "+ Fold4: mtry=36, min.node.size=1, splitrule=extratrees \n",
      "- Fold4: mtry=36, min.node.size=1, splitrule=extratrees \n",
      "+ Fold4: mtry=70, min.node.size=1, splitrule=extratrees \n",
      "- Fold4: mtry=70, min.node.size=1, splitrule=extratrees \n",
      "+ Fold5: mtry= 2, min.node.size=1, splitrule=gini \n",
      "- Fold5: mtry= 2, min.node.size=1, splitrule=gini \n",
      "+ Fold5: mtry=36, min.node.size=1, splitrule=gini \n",
      "- Fold5: mtry=36, min.node.size=1, splitrule=gini \n",
      "+ Fold5: mtry=70, min.node.size=1, splitrule=gini \n",
      "- Fold5: mtry=70, min.node.size=1, splitrule=gini \n",
      "+ Fold5: mtry= 2, min.node.size=1, splitrule=extratrees \n",
      "- Fold5: mtry= 2, min.node.size=1, splitrule=extratrees \n",
      "+ Fold5: mtry=36, min.node.size=1, splitrule=extratrees \n",
      "- Fold5: mtry=36, min.node.size=1, splitrule=extratrees \n",
      "+ Fold5: mtry=70, min.node.size=1, splitrule=extratrees \n",
      "- Fold5: mtry=70, min.node.size=1, splitrule=extratrees \n",
      "Aggregating results\n",
      "Selecting tuning parameters\n",
      "Fitting mtry = 36, splitrule = extratrees, min.node.size = 1 on full training set\n"
     ]
    }
   ],
   "source": [
    "library(caretEnsemble)\n",
    "models <- caretList(\n",
    "x = churn_x, y = churn_y,\n",
    "metric = \"ROC\",\n",
    "trControl = myControl,\n",
    "methodList = c(\"glmnet\", \"ranger\")\n",
    ")"
   ]
  },
  {
   "cell_type": "code",
   "execution_count": 183,
   "metadata": {},
   "outputs": [
    {
     "data": {
      "text/plain": [
       "\n",
       "Call:\n",
       "NULL\n",
       "\n",
       "Deviance Residuals: \n",
       "    Min       1Q   Median       3Q      Max  \n",
       "-1.4427  -0.4925  -0.4376  -0.4149   2.2712  \n",
       "\n",
       "Coefficients:\n",
       "            Estimate Std. Error z value Pr(>|z|)    \n",
       "(Intercept)   1.7804     0.5473   3.253  0.00114 ** \n",
       "glmnet        1.2702     0.4921   2.581  0.00985 ** \n",
       "ranger       -5.4901     0.8702  -6.309 2.81e-10 ***\n",
       "---\n",
       "Signif. codes:  0 '***' 0.001 '**' 0.01 '*' 0.05 '.' 0.1 ' ' 1\n",
       "\n",
       "(Dispersion parameter for binomial family taken to be 1)\n",
       "\n",
       "    Null deviance: 765.13  on 999  degrees of freedom\n",
       "Residual deviance: 721.46  on 997  degrees of freedom\n",
       "AIC: 727.46\n",
       "\n",
       "Number of Fisher Scoring iterations: 4\n"
      ]
     },
     "metadata": {},
     "output_type": "display_data"
    }
   ],
   "source": [
    "# Create ensemble model: stack\n",
    "stack <- caretStack(all.models = models, method = \"glm\")\n",
    "\n",
    "# Look at summary\n",
    "summary(stack)"
   ]
  },
  {
   "cell_type": "markdown",
   "metadata": {},
   "source": [
    "# END OF THIS EXCELLENT COURSE"
   ]
  },
  {
   "cell_type": "code",
   "execution_count": 184,
   "metadata": {},
   "outputs": [
    {
     "data": {
      "image/png": "[encoded data removed]"
     },
     "metadata": {},
     "output_type": "display_data"
    }
   ],
   "source": [
    "display_png(file=\"r&c.jpg\") "
   ]
  },
  {
   "cell_type": "code",
   "execution_count": null,
   "metadata": {},
   "outputs": [],
   "source": []
  }
 ],
 "metadata": {
  "kernelspec": {
   "display_name": "R",
   "language": "R",
   "name": "ir"
  },
  "language_info": {
   "codemirror_mode": "r",
   "file_extension": ".r",
   "mimetype": "text/x-r-source",
   "name": "R",
   "pygments_lexer": "r",
   "version": "3.6.1"
  }
 },
 "nbformat": 4,
 "nbformat_minor": 2
}
